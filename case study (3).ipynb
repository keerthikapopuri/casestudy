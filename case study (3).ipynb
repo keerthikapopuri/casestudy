{
 "cells": [
  {
   "cell_type": "code",
   "execution_count": 3,
   "id": "982fa9e6-a78f-4bfb-97c1-596d4c2f5632",
   "metadata": {},
   "outputs": [],
   "source": [
    "import numpy as np\n",
    "import pandas as pd"
   ]
  },
  {
   "cell_type": "code",
   "execution_count": 4,
   "id": "7ccf955c-dc9a-488c-89a8-e528cec12614",
   "metadata": {},
   "outputs": [
    {
     "name": "stdout",
     "output_type": "stream",
     "text": [
      "Requirement already satisfied: pyodbc in c:\\python312\\lib\\site-packages (5.1.0)\n",
      "Requirement already satisfied: pandas in c:\\python312\\lib\\site-packages (2.2.1)\n",
      "Requirement already satisfied: numpy<2,>=1.26.0 in c:\\python312\\lib\\site-packages (from pandas) (1.26.4)\n",
      "Requirement already satisfied: python-dateutil>=2.8.2 in c:\\python312\\lib\\site-packages (from pandas) (2.8.2)\n",
      "Requirement already satisfied: pytz>=2020.1 in c:\\python312\\lib\\site-packages (from pandas) (2024.1)\n",
      "Requirement already satisfied: tzdata>=2022.7 in c:\\python312\\lib\\site-packages (from pandas) (2024.1)\n",
      "Requirement already satisfied: six>=1.5 in c:\\python312\\lib\\site-packages (from python-dateutil>=2.8.2->pandas) (1.16.0)\n"
     ]
    },
    {
     "name": "stderr",
     "output_type": "stream",
     "text": [
      "WARNING: Ignoring invalid distribution ~ (C:\\Python312\\Lib\\site-packages)\n",
      "WARNING: Ignoring invalid distribution ~-p (C:\\Python312\\Lib\\site-packages)\n",
      "WARNING: Ignoring invalid distribution ~=p (C:\\Python312\\Lib\\site-packages)\n",
      "WARNING: Ignoring invalid distribution ~ip (C:\\Python312\\Lib\\site-packages)\n",
      "WARNING: Ignoring invalid distribution ~~p (C:\\Python312\\Lib\\site-packages)\n",
      "WARNING: Ignoring invalid distribution ~ (C:\\Python312\\Lib\\site-packages)\n",
      "WARNING: Ignoring invalid distribution ~-p (C:\\Python312\\Lib\\site-packages)\n",
      "WARNING: Ignoring invalid distribution ~=p (C:\\Python312\\Lib\\site-packages)\n",
      "WARNING: Ignoring invalid distribution ~ip (C:\\Python312\\Lib\\site-packages)\n",
      "WARNING: Ignoring invalid distribution ~~p (C:\\Python312\\Lib\\site-packages)\n",
      "WARNING: Ignoring invalid distribution ~ (C:\\Python312\\Lib\\site-packages)\n",
      "WARNING: Ignoring invalid distribution ~-p (C:\\Python312\\Lib\\site-packages)\n",
      "WARNING: Ignoring invalid distribution ~=p (C:\\Python312\\Lib\\site-packages)\n",
      "WARNING: Ignoring invalid distribution ~ip (C:\\Python312\\Lib\\site-packages)\n",
      "WARNING: Ignoring invalid distribution ~~p (C:\\Python312\\Lib\\site-packages)\n"
     ]
    }
   ],
   "source": [
    "!pip install pyodbc pandas\n"
   ]
  },
  {
   "cell_type": "code",
   "execution_count": 5,
   "id": "f88fd32b-9f0b-4d27-b58f-67f084f83446",
   "metadata": {},
   "outputs": [
    {
     "name": "stdout",
     "output_type": "stream",
     "text": [
      "Requirement already satisfied: sqlalchemy in c:\\python312\\lib\\site-packages (2.0.31)\n",
      "Requirement already satisfied: pyodbc in c:\\python312\\lib\\site-packages (5.1.0)\n",
      "Requirement already satisfied: pandas in c:\\python312\\lib\\site-packages (2.2.1)\n",
      "Requirement already satisfied: typing-extensions>=4.6.0 in c:\\users\\hp\\appdata\\roaming\\python\\python312\\site-packages (from sqlalchemy) (4.10.0)\n",
      "Requirement already satisfied: greenlet!=0.4.17 in c:\\python312\\lib\\site-packages (from sqlalchemy) (3.0.3)\n",
      "Requirement already satisfied: numpy<2,>=1.26.0 in c:\\python312\\lib\\site-packages (from pandas) (1.26.4)\n",
      "Requirement already satisfied: python-dateutil>=2.8.2 in c:\\python312\\lib\\site-packages (from pandas) (2.8.2)\n",
      "Requirement already satisfied: pytz>=2020.1 in c:\\python312\\lib\\site-packages (from pandas) (2024.1)\n",
      "Requirement already satisfied: tzdata>=2022.7 in c:\\python312\\lib\\site-packages (from pandas) (2024.1)\n",
      "Requirement already satisfied: six>=1.5 in c:\\python312\\lib\\site-packages (from python-dateutil>=2.8.2->pandas) (1.16.0)\n"
     ]
    },
    {
     "name": "stderr",
     "output_type": "stream",
     "text": [
      "WARNING: Ignoring invalid distribution ~ (C:\\Python312\\Lib\\site-packages)\n",
      "WARNING: Ignoring invalid distribution ~-p (C:\\Python312\\Lib\\site-packages)\n",
      "WARNING: Ignoring invalid distribution ~=p (C:\\Python312\\Lib\\site-packages)\n",
      "WARNING: Ignoring invalid distribution ~ip (C:\\Python312\\Lib\\site-packages)\n",
      "WARNING: Ignoring invalid distribution ~~p (C:\\Python312\\Lib\\site-packages)\n",
      "WARNING: Ignoring invalid distribution ~ (C:\\Python312\\Lib\\site-packages)\n",
      "WARNING: Ignoring invalid distribution ~-p (C:\\Python312\\Lib\\site-packages)\n",
      "WARNING: Ignoring invalid distribution ~=p (C:\\Python312\\Lib\\site-packages)\n",
      "WARNING: Ignoring invalid distribution ~ip (C:\\Python312\\Lib\\site-packages)\n",
      "WARNING: Ignoring invalid distribution ~~p (C:\\Python312\\Lib\\site-packages)\n",
      "WARNING: Ignoring invalid distribution ~ (C:\\Python312\\Lib\\site-packages)\n",
      "WARNING: Ignoring invalid distribution ~-p (C:\\Python312\\Lib\\site-packages)\n",
      "WARNING: Ignoring invalid distribution ~=p (C:\\Python312\\Lib\\site-packages)\n",
      "WARNING: Ignoring invalid distribution ~ip (C:\\Python312\\Lib\\site-packages)\n",
      "WARNING: Ignoring invalid distribution ~~p (C:\\Python312\\Lib\\site-packages)\n"
     ]
    }
   ],
   "source": [
    "!pip install sqlalchemy pyodbc pandas\n"
   ]
  },
  {
   "cell_type": "code",
   "execution_count": 6,
   "id": "07a84eb7-ddc8-4304-8b83-d3657473f724",
   "metadata": {},
   "outputs": [
    {
     "name": "stdout",
     "output_type": "stream",
     "text": [
      "   DepartmentID         Name                 GroupName ModifiedDate\n",
      "0             1  Engineering  Research and Development   2008-04-30\n",
      "1             2  Tool Design  Research and Development   2008-04-30\n",
      "2             3        Sales       Sales and Marketing   2008-04-30\n",
      "3             4    Marketing       Sales and Marketing   2008-04-30\n",
      "4             5   Purchasing      Inventory Management   2008-04-30\n"
     ]
    }
   ],
   "source": [
    "from sqlalchemy import create_engine\n",
    "import pandas as pd\n",
    "\n",
    "# Define the connection string\n",
    "connection_string = (\n",
    "    \"mssql+pyodbc://DESKTOP-45PMML3/AdventureWorks2022\"\n",
    "    \"?driver=SQL+Server\"\n",
    ")\n",
    "\n",
    "# Create the SQLAlchemy engine\n",
    "engine = create_engine(connection_string)\n",
    "\n",
    "try:\n",
    "    # Define SQL query\n",
    "    query = \"SELECT TOP 10 * FROM [HumanResources].[Department]\"\n",
    "\n",
    "    # Execute query and Load into DataFrame\n",
    "    df = pd.read_sql(query, engine)\n",
    "\n",
    "    # Show the results\n",
    "    print(df.head())\n",
    "\n",
    "except Exception as e:\n",
    "    print(f\"Error: {e}\")\n"
   ]
  },
  {
   "cell_type": "code",
   "execution_count": 7,
   "id": "8ba017eb-fab7-48ea-9193-393fc6ce6b0a",
   "metadata": {},
   "outputs": [
    {
     "name": "stdout",
     "output_type": "stream",
     "text": [
      "     EmployeeID FirstName         LastName\n",
      "0            89   Patrick            Wedge\n",
      "1           120     Kitti  Lertpiriyasuwat\n",
      "2             9      Gigi          Matthew\n",
      "3           205      Lori             Kane\n",
      "4            71   Michael              Ray\n",
      "..          ...       ...              ...\n",
      "285          82      Jack          Creasey\n",
      "286         157     Linda          Randall\n",
      "287          95       Jim        Scardelis\n",
      "288         215      Mark       Harrington\n",
      "289         112      John            Evans\n",
      "\n",
      "[290 rows x 3 columns]\n"
     ]
    }
   ],
   "source": [
    "\n",
    "# 1. Select EmployeeID, FirstName, and LastName columns from the Employee DataFrame\n",
    "query1 = \"\"\"\n",
    "SELECT e.BusinessEntityID as EmployeeID, p.FirstName, p.LastName\n",
    "FROM HumanResources.Employee e\n",
    "JOIN Person.Person p\n",
    "ON e.BusinessEntityID = p.BusinessEntityID\n",
    "\"\"\"\n",
    "employee_df = pd.read_sql(query1, engine)\n",
    "print(employee_df)"
   ]
  },
  {
   "cell_type": "code",
   "execution_count": 8,
   "id": "c62a84ac-59a3-4880-b2f6-c2911f81828e",
   "metadata": {},
   "outputs": [
    {
     "name": "stdout",
     "output_type": "stream",
     "text": [
      "     EmployeeID FirstName     LastName\n",
      "59          285      Syed        Abbas\n",
      "251          38       Kim  Abercrombie\n",
      "142         211     Hazem     Abolrous\n",
      "239         121     Pilar     Ackerman\n",
      "240          67       Jay        Adams\n",
      "..          ...       ...          ...\n",
      "248          99      Nuan           Yu\n",
      "212         129      Gary       Yukish\n",
      "39          173    Eugene  Zabokritski\n",
      "56           91  Kimberly    Zimmerman\n",
      "234          64   Michael     Zwilling\n",
      "\n",
      "[290 rows x 3 columns]\n"
     ]
    }
   ],
   "source": [
    "# 2. Sort the Employee DataFrame by LastName in ascending order\n",
    "sorted_employee_df = employee_df.sort_values(by='LastName')\n",
    "print(sorted_employee_df)"
   ]
  },
  {
   "cell_type": "code",
   "execution_count": 9,
   "id": "794b6abd-2650-41d7-8d28-092073b1e1f4",
   "metadata": {},
   "outputs": [
    {
     "name": "stdout",
     "output_type": "stream",
     "text": [
      "                          JobTitle\n",
      "0                       Accountant\n",
      "1                 Accounts Manager\n",
      "2      Accounts Payable Specialist\n",
      "3   Accounts Receivable Specialist\n",
      "4           Application Specialist\n",
      "..                             ...\n",
      "62                         Stocker\n",
      "63                   Tool Designer\n",
      "64   Vice President of Engineering\n",
      "65    Vice President of Production\n",
      "66         Vice President of Sales\n",
      "\n",
      "[67 rows x 1 columns]\n"
     ]
    }
   ],
   "source": [
    "# 3. Retrieve distinct JobTitle values from the Employee DataFrame\n",
    "query2 = \"\"\"\n",
    "SELECT DISTINCT JobTitle\n",
    "FROM HumanResources.Employee\n",
    "\"\"\"\n",
    "job_titles_df = pd.read_sql(query2, engine)\n",
    "print(job_titles_df)"
   ]
  },
  {
   "cell_type": "code",
   "execution_count": 20,
   "id": "99be49ce-8226-4774-b2f7-f16b98585054",
   "metadata": {},
   "outputs": [
    {
     "name": "stdout",
     "output_type": "stream",
     "text": [
      "    EmployeeID  FirstName           LastName                          JobTitle\n",
      "0            3    Roberto         Tamburello               Engineering Manager\n",
      "1            7      Dylan             Miller  Research and Development Manager\n",
      "2           10    Michael             Raheem  Research and Development Manager\n",
      "3           16      David            Bradley                 Marketing Manager\n",
      "4           26      Peter              Krebs        Production Control Manager\n",
      "5          211      Hazem           Abolrous         Quality Assurance Manager\n",
      "6          217     Zainal             Arifin          Document Control Manager\n",
      "7          227       Gary             Altman                Facilities Manager\n",
      "8          235      Paula  Barreto de Mattos           Human Resources Manager\n",
      "9          241      David                Liu                  Accounts Manager\n",
      "10         249      Wendy               Kahn                   Finance Manager\n",
      "11         250     Sheela               Word                Purchasing Manager\n",
      "12         263       Jean            Trenary      Information Services Manager\n",
      "13         264  Stephanie             Conroy                   Network Manager\n",
      "14         274    Stephen              Jiang      North American Sales Manager\n",
      "15         285       Syed              Abbas             Pacific Sales Manager\n",
      "16         287        Amy            Alberts            European Sales Manager\n"
     ]
    }
   ],
   "source": [
    "# 4. Filter employees with JobTitle containing 'Manager'\n",
    "query3 = \"\"\"\n",
    "SELECT e.BusinessEntityID as EmployeeID, p.FirstName, p.LastName, e.JobTitle\n",
    "FROM HumanResources.Employee e\n",
    "JOIN Person.Person p ON e.BusinessEntityID = p.BusinessEntityID\n",
    "WHERE e.JobTitle LIKE '%Manager%'\n",
    "\"\"\"\n",
    "manager_df = pd.read_sql(query3, engine)\n",
    "print(manager_df)"
   ]
  },
  {
   "cell_type": "code",
   "execution_count": 21,
   "id": "712617a7-b327-460a-a258-ad44be82bd9e",
   "metadata": {},
   "outputs": [
    {
     "name": "stdout",
     "output_type": "stream",
     "text": [
      "   TotalEmployees\n",
      "0             290\n"
     ]
    }
   ],
   "source": [
    "# 5. Count the total number of employees in the Employee DataFrame\n",
    "query4 = \"\"\"\n",
    "SELECT COUNT(*) as TotalEmployees\n",
    "FROM HumanResources.Employee\n",
    "\"\"\"\n",
    "total_employees_df = pd.read_sql(query4, engine)\n",
    "print(total_employees_df)"
   ]
  },
  {
   "cell_type": "code",
   "execution_count": 36,
   "id": "d5c22b70-2a3e-484f-99be-1df48d9406e2",
   "metadata": {},
   "outputs": [
    {
     "name": "stdout",
     "output_type": "stream",
     "text": [
      "Empty DataFrame\n",
      "Columns: [BusinessEntityID]\n",
      "Index: []\n"
     ]
    }
   ],
   "source": [
    "# 6. Find employees who are currently on leave.\t\t\t\t\n",
    "query6 = \"\"\"\n",
    "SELECT BusinessEntityID\n",
    "FROM HumanResources.Employee\n",
    "WHERE CurrentFlag = 0;\n",
    "\"\"\"\n",
    "onleave_df = pd.read_sql(query6, engine)\n",
    "print(onleave_df)"
   ]
  },
  {
   "cell_type": "code",
   "execution_count": 22,
   "id": "6394362e-f0c1-4b40-98f6-48f6e36f4c3f",
   "metadata": {},
   "outputs": [
    {
     "name": "stdout",
     "output_type": "stream",
     "text": [
      "Empty DataFrame\n",
      "Columns: [EmployeeID, FirstName, LastName, HireDate]\n",
      "Index: []\n"
     ]
    }
   ],
   "source": [
    "# 7. Check for any missing hire dates in the Employee DataFrame\n",
    "query7 = \"\"\"\n",
    "SELECT e.BusinessEntityID as EmployeeID, p.FirstName, p.LastName, eph.RateChangeDate as HireDate\n",
    "FROM HumanResources.Employee e\n",
    "JOIN Person.Person p ON e.BusinessEntityID = p.BusinessEntityID\n",
    "JOIN HumanResources.EmployeePayHistory eph ON e.BusinessEntityID = eph.BusinessEntityID\n",
    "WHERE eph.RateChangeDate IS NULL\n",
    "\"\"\"\n",
    "missing_hire_dates_df = pd.read_sql(query7, engine)\n",
    "print(missing_hire_dates_df)"
   ]
  },
  {
   "cell_type": "code",
   "execution_count": 15,
   "id": "c441c9e6-bd8c-42ba-9c1a-161dab595166",
   "metadata": {},
   "outputs": [
    {
     "name": "stdout",
     "output_type": "stream",
     "text": [
      "    BusinessEntityID FirstName        LastName  Age\n",
      "0                287       Amy         Alberts   67\n",
      "1                282      José         Saraiva   61\n",
      "2                277   Jillian          Carson   62\n",
      "3                274   Stephen           Jiang   73\n",
      "4                262     David          Barber   60\n",
      "5                256     Frank          Pellow   72\n",
      "6                231        Jo           Berry   70\n",
      "7                206    Stuart          Munson   62\n",
      "8                140  Prasanna  Samarawickrama   71\n",
      "9                 84     Frank        Martinez   72\n",
      "10                63    Maciej           Dusza   69\n",
      "11                62      John        Campbell   68\n",
      "12                55    Taylor         Maxwell   68\n",
      "13                53     Diane           Glimp   68\n",
      "14                52     Doris         Hartwig   68\n",
      "15                51   Jeffrey            Ford   68\n",
      "16                50    Sidney            Higa   68\n",
      "17                49     Barry         Johnson   68\n",
      "18                48      Ruth      Ellerbrock   68\n",
      "19                40    JoLynn          Dobney   68\n",
      "20                27        Jo           Brown   68\n",
      "21                23      Mary          Gibson   62\n",
      "22                15    Sharon       Salavaria   63\n",
      "23                12   Thierry          D'Hers   65\n",
      "24                 6    Jossef        Goldberg   65\n",
      "25                 5      Gail        Erickson   72\n"
     ]
    }
   ],
   "source": [
    "from datetime import datetime, timedelta\n",
    "\n",
    "# 8. Select employees who are eligible for retirement\n",
    "query8 = \"\"\"\n",
    "SELECT e.BusinessEntityID, p.FirstName, p.LastName, \n",
    "       DATEDIFF(YEAR, e.BirthDate, GETDATE()) AS Age\n",
    "FROM HumanResources.Employee AS e\n",
    "JOIN Person.Person AS p ON e.BusinessEntityID = p.BusinessEntityID\n",
    "WHERE DATEDIFF(YEAR, e.BirthDate, GETDATE()) >= 60;\n",
    "\n",
    "\n",
    "\"\"\"\n",
    "retirement_eligible_df = pd.read_sql(query8, engine)\n",
    "print(retirement_eligible_df)"
   ]
  },
  {
   "cell_type": "code",
   "execution_count": 28,
   "id": "34471375-4a80-4983-8b95-a4cacc11f139",
   "metadata": {},
   "outputs": [
    {
     "name": "stdout",
     "output_type": "stream",
     "text": [
      "    DepartmentID              DepartmentName  TotalEmployees\n",
      "0              1                 Engineering               7\n",
      "1              2                 Tool Design               4\n",
      "2              3                       Sales              18\n",
      "3              4                   Marketing              10\n",
      "4              5                  Purchasing              13\n",
      "5              6    Research and Development               4\n",
      "6              7                  Production             180\n",
      "7              8          Production Control               6\n",
      "8              9             Human Resources               6\n",
      "9             10                     Finance              11\n",
      "10            11        Information Services              10\n",
      "11            12            Document Control               5\n",
      "12            13           Quality Assurance               7\n",
      "13            14  Facilities and Maintenance               7\n",
      "14            15      Shipping and Receiving               6\n",
      "15            16                   Executive               2\n"
     ]
    }
   ],
   "source": [
    "# 9. Calculate the total number of employees in each department\n",
    "query9 = \"\"\"\n",
    "SELECT edh.DepartmentID, d.Name as DepartmentName, COUNT(e.BusinessEntityID) as TotalEmployees\n",
    "FROM HumanResources.Employee e\n",
    "JOIN HumanResources.EmployeeDepartmentHistory edh ON e.BusinessEntityID = edh.BusinessEntityID\n",
    "JOIN HumanResources.Department d ON edh.DepartmentID = d.DepartmentID\n",
    "GROUP BY edh.DepartmentID, d.Name\n",
    "\"\"\"\n",
    "employees_per_department_df = pd.read_sql(query9, engine)\n",
    "print(employees_per_department_df)"
   ]
  },
  {
   "cell_type": "code",
   "execution_count": 37,
   "id": "292b3984-e0d0-415f-a28a-21b1e11764d8",
   "metadata": {},
   "outputs": [
    {
     "name": "stdout",
     "output_type": "stream",
     "text": [
      "     EmployeeID FirstName  LastName          DepartmentName\n",
      "0           219      Sean      Chai        Document Control\n",
      "1           220     Karen     Berge        Document Control\n",
      "2           221     Chris    Norred        Document Control\n",
      "3             5      Gail  Erickson             Engineering\n",
      "4             6    Jossef  Goldberg             Engineering\n",
      "..          ...       ...       ...                     ...\n",
      "291         126     Jimmy  Bischoff  Shipping and Receiving\n",
      "292           4       Rob   Walters             Tool Design\n",
      "293          11    Ovidiu   Cracium             Tool Design\n",
      "294          12   Thierry    D'Hers             Tool Design\n",
      "295          13    Janice    Galvin             Tool Design\n",
      "\n",
      "[296 rows x 4 columns]\n"
     ]
    }
   ],
   "source": [
    "# 10. Merge the Employee and Department DataFrames on DepartmentID\n",
    "query10 = \"\"\"\n",
    "SELECT e.BusinessEntityID as EmployeeID, p.FirstName, p.LastName, d.Name as DepartmentName\n",
    "FROM HumanResources.Employee e\n",
    "JOIN Person.Person p ON e.BusinessEntityID = p.BusinessEntityID\n",
    "JOIN HumanResources.EmployeeDepartmentHistory edh ON e.BusinessEntityID = edh.BusinessEntityID\n",
    "JOIN HumanResources.Department d ON edh.DepartmentID = d.DepartmentID\n",
    "\"\"\"\n",
    "employee_department_df = pd.read_sql(query10, engine)\n",
    "print(employee_department_df)"
   ]
  },
  {
   "cell_type": "code",
   "execution_count": 40,
   "id": "a2beb0db-8b0d-4f46-a614-b49c6eeeb9ec",
   "metadata": {},
   "outputs": [
    {
     "name": "stdout",
     "output_type": "stream",
     "text": [
      "   NumberOfPeople\n",
      "0               0\n"
     ]
    }
   ],
   "source": [
    "from datetime import datetime, timedelta\n",
    "import pandas as pd\n",
    "\n",
    "# 11. Create an intermediate DataFrame to calculate the number of employees hired in the last 12 months\n",
    "twelve_months_ago = datetime.now() - timedelta(days=365)\n",
    "\n",
    "query11 = f\"\"\"\n",
    "SELECT COUNT(e.BusinessEntityID) as NumberOfPeople\n",
    "FROM HumanResources.Employee e\n",
    "JOIN Person.Person p ON e.BusinessEntityID = p.BusinessEntityID\n",
    "JOIN HumanResources.EmployeeDepartmentHistory edh ON e.BusinessEntityID = edh.BusinessEntityID\n",
    "WHERE edh.StartDate >= '{twelve_months_ago.strftime('%Y-%m-%d')}' \n",
    "\"\"\"\n",
    "\n",
    "# Execute the query and fetch the result\n",
    "recently_hired_df = pd.read_sql(query11, engine)\n",
    "print(recently_hired_df)\n",
    "# max is 2012"
   ]
  },
  {
   "cell_type": "code",
   "execution_count": 41,
   "id": "e5631441-f40b-45d6-aa36-b431f347e252",
   "metadata": {},
   "outputs": [
    {
     "name": "stdout",
     "output_type": "stream",
     "text": [
      "   DepartmentID DepartmentName  TotalEmployees\n",
      "0             7     Production             180\n"
     ]
    }
   ],
   "source": [
    "# 12. Filter departments with more than 50 employees\n",
    "query12 = \"\"\"\n",
    "SELECT edh.DepartmentID, d.Name as DepartmentName, COUNT(e.BusinessEntityID) as TotalEmployees\n",
    "FROM HumanResources.Employee e\n",
    "JOIN HumanResources.EmployeeDepartmentHistory edh ON e.BusinessEntityID = edh.BusinessEntityID\n",
    "JOIN HumanResources.Department d ON edh.DepartmentID = d.DepartmentID\n",
    "GROUP BY edh.DepartmentID, d.Name\n",
    "HAVING COUNT(e.BusinessEntityID) > 50\n",
    "\"\"\"\n",
    "large_departments_df = pd.read_sql(query12, engine)\n",
    "print(large_departments_df)"
   ]
  },
  {
   "cell_type": "code",
   "execution_count": 16,
   "id": "02d003d7-df14-4685-93cb-26412f9e38ab",
   "metadata": {},
   "outputs": [
    {
     "name": "stdout",
     "output_type": "stream",
     "text": [
      "    DepartmentID              DepartmentName  AvgTenureYears\n",
      "0              1                 Engineering              15\n",
      "1              2                 Tool Design              15\n",
      "2              3                       Sales              12\n",
      "3              4                   Marketing              14\n",
      "4              5                  Purchasing              14\n",
      "5              6    Research and Development              15\n",
      "6              7                  Production              15\n",
      "7              8          Production Control              15\n",
      "8              9             Human Resources              15\n",
      "9             10                     Finance              15\n",
      "10            11        Information Services              15\n",
      "11            12            Document Control              15\n",
      "12            13           Quality Assurance              14\n",
      "13            14  Facilities and Maintenance              14\n",
      "14            15      Shipping and Receiving              15\n",
      "15            16                   Executive              15\n"
     ]
    }
   ],
   "source": [
    "# 13. Identify the average tenure of employees in each department\n",
    "query13 = \"\"\"\n",
    "SELECT edh.DepartmentID, d.Name as DepartmentName, \n",
    "AVG(DATEDIFF(YEAR, e.HireDate, GETDATE())) as AvgTenureYears\n",
    "FROM HumanResources.Employee e\n",
    "JOIN HumanResources.EmployeeDepartmentHistory edh ON e.BusinessEntityID = edh.BusinessEntityID\n",
    "JOIN HumanResources.Department d ON edh.DepartmentID = d.DepartmentID\n",
    "GROUP BY edh.DepartmentID, d.Name\n",
    "\"\"\"\n",
    "average_tenure_df = pd.read_sql(query13, engine)\n",
    "print(average_tenure_df)"
   ]
  },
  {
   "cell_type": "code",
   "execution_count": 48,
   "id": "6e5734aa-6065-43a1-8d1c-6a178b8dce3d",
   "metadata": {},
   "outputs": [
    {
     "name": "stdout",
     "output_type": "stream",
     "text": [
      "   EmployeesLeft  TotalEmployees  TurnoverRate\n",
      "0              6             290   4833.333333\n"
     ]
    }
   ],
   "source": [
    "# 14. Calculate the turnover rate for the company\n",
    "query14 = \"\"\"\n",
    "SELECT \n",
    "    (SELECT COUNT(*) \n",
    "     FROM HumanResources.EmployeeDepartmentHistory \n",
    "     WHERE EndDate <= GETDATE()) as EmployeesLeft,\n",
    "    (SELECT COUNT(*) \n",
    "     FROM HumanResources.Employee) as TotalEmployees\n",
    "\"\"\"\n",
    "turnover_df = pd.read_sql(query14, engine)\n",
    "turnover_df['TurnoverRate'] = (turnover_df['TotalEmployees']/ turnover_df['EmployeesLeft']) * 100\n",
    "print(turnover_df)\n"
   ]
  },
  {
   "cell_type": "code",
   "execution_count": 38,
   "id": "aef69143-5a44-4a63-8626-62e335a78ef6",
   "metadata": {},
   "outputs": [
    {
     "name": "stdout",
     "output_type": "stream",
     "text": [
      "  AgeGroup  TotalEmployees\n",
      "0    30-50             215\n",
      "1  Over 50              75\n"
     ]
    }
   ],
   "source": [
    "# 15. Determine the number of employees in each age group\n",
    "query15 = \"\"\"\n",
    "SELECT \n",
    "CASE \n",
    "    WHEN DATEDIFF(YEAR, e.BirthDate, GETDATE()) < 30 THEN 'Under 30'\n",
    "    WHEN DATEDIFF(YEAR, e.BirthDate, GETDATE()) BETWEEN 30 AND 50 THEN '30-50'\n",
    "    ELSE 'Over 50'\n",
    "END as AgeGroup, COUNT(*) as TotalEmployees\n",
    "FROM HumanResources.Employee e\n",
    "GROUP BY \n",
    "CASE \n",
    "    WHEN DATEDIFF(YEAR, e.BirthDate, GETDATE()) < 30 THEN 'Under 30'\n",
    "    WHEN DATEDIFF(YEAR, e.BirthDate, GETDATE()) BETWEEN 30 AND 50 THEN '30-50'\n",
    "    ELSE 'Over 50'\n",
    "END\n",
    "\"\"\"\n",
    "age_group_df = pd.read_sql(query15, engine)\n",
    "print(age_group_df)\n"
   ]
  },
  {
   "cell_type": "code",
   "execution_count": 59,
   "id": "6de8150d-ec33-44d2-9146-a1c7bf07f70d",
   "metadata": {},
   "outputs": [
    {
     "name": "stdout",
     "output_type": "stream",
     "text": [
      "    FirstName    LastName  BusinessEntityID  PayFrequency\n",
      "0        Jean     Trenary               263             2\n",
      "1      Reuben        D'sa                78             2\n",
      "2     Deborah         Poe               242             2\n",
      "3    Matthias      Berndt               125             2\n",
      "4     Garrett      Vargas               278             2\n",
      "..        ...         ...               ...           ...\n",
      "131       Rob     Walters                 4             2\n",
      "132     Terri       Duffy                 2             2\n",
      "133   Roberto  Tamburello                 3             2\n",
      "134    Gordon         Hee               255             2\n",
      "135      Mark  Harrington               215             2\n",
      "\n",
      "[136 rows x 4 columns]\n"
     ]
    }
   ],
   "source": [
    "#16. Filter employees who have not completed mandatory training.\t\t\t\t\n",
    "query16=\"\"\"\n",
    "SELECT \n",
    "    p.FirstName,\n",
    "    p.LastName,\n",
    "    e.BusinessEntityID,\n",
    "    eph.PayFrequency\n",
    "FROM \n",
    "    Person.Person AS p\n",
    "JOIN \n",
    "    HumanResources.Employee AS e ON p.BusinessEntityID = e.BusinessEntityID\n",
    "JOIN \n",
    "    HumanResources.EmployeePayHistory AS eph ON e.BusinessEntityID = eph.BusinessEntityID\n",
    "WHERE \n",
    "    eph.PayFrequency = 2;\n",
    "\"\"\"\n",
    "\n",
    "employee_temp_df = pd.read_sql(query16, engine)\n",
    "print(employee_temp_df)"
   ]
  },
  {
   "cell_type": "code",
   "execution_count": 17,
   "id": "691b2208-5ce6-4f4b-881d-d706368a4e05",
   "metadata": {},
   "outputs": [
    {
     "name": "stdout",
     "output_type": "stream",
     "text": [
      "     EmployeeID    HireDate   Rank\n",
      "27           28  2006-06-30    1.0\n",
      "16           17  2007-01-26    2.0\n",
      "2             3  2007-11-11    3.0\n",
      "3             4  2007-12-05    4.0\n",
      "11           12  2007-12-11    5.0\n",
      "..          ...         ...    ...\n",
      "289         290  2012-05-30  285.5\n",
      "283         284  2012-09-30  287.0\n",
      "284         285  2013-03-14  288.0\n",
      "285         286  2013-05-30  289.5\n",
      "287         288  2013-05-30  289.5\n",
      "\n",
      "[290 rows x 3 columns]\n"
     ]
    }
   ],
   "source": [
    "# 17. Rank employees by hire date\n",
    "import pandas as pd\n",
    "query17 = \"\"\"\n",
    "SELECT e.BusinessEntityID as EmployeeID, e.HireDate as HireDate\n",
    "FROM HumanResources.Employee e\n",
    "\"\"\"\n",
    "employee_hire_df = pd.read_sql(query17, engine)\n",
    "\n",
    "# Rank employees by hire date using pandas\n",
    "employee_hire_df['Rank'] = employee_hire_df['HireDate'].rank(ascending=True)\n",
    "print(employee_hire_df.sort_values('Rank'))"
   ]
  },
  {
   "cell_type": "code",
   "execution_count": 18,
   "id": "678aa529-92fa-4d78-b6c8-c0683d65b683",
   "metadata": {},
   "outputs": [
    {
     "name": "stdout",
     "output_type": "stream",
     "text": [
      "    EmployeeID    HireDate  Rank\n",
      "27          28  2006-06-30   1.0\n",
      "16          17  2007-01-26   2.0\n",
      "2            3  2007-11-11   3.0\n",
      "3            4  2007-12-05   4.0\n",
      "11          12  2007-12-11   5.0\n"
     ]
    }
   ],
   "source": [
    "# 18. Top 5 longest-serving employees\n",
    "longest_serving_df = employee_hire_df.sort_values('HireDate').head(5)\n",
    "print(longest_serving_df)\n"
   ]
  },
  {
   "cell_type": "code",
   "execution_count": 28,
   "id": "a20a1a29-0994-4e2e-86d1-aee72c8bb5df",
   "metadata": {},
   "outputs": [
    {
     "name": "stdout",
     "output_type": "stream",
     "text": [
      "   EmployeeID FirstName LastName DepartmentName    HireDate\n",
      "0           1       Ken  Sánchez      Executive  2009-01-14\n"
     ]
    }
   ],
   "source": [
    "# 19. Function to retrieve employee details based on DepartmentID and HireDate\n",
    "def get_employee_by_dept_and_hiredate(department_id, hire_date):\n",
    "    query = f\"\"\"\n",
    "    SELECT e.BusinessEntityID as EmployeeID, p.FirstName, p.LastName, d.Name as DepartmentName, e.HireDate\n",
    "    FROM HumanResources.Employee e\n",
    "    JOIN Person.Person p ON e.BusinessEntityID = p.BusinessEntityID\n",
    "    JOIN HumanResources.EmployeeDepartmentHistory edh ON e.BusinessEntityID = edh.BusinessEntityID\n",
    "    JOIN HumanResources.Department d ON edh.DepartmentID = d.DepartmentID\n",
    "    WHERE edh.DepartmentID = {department_id} AND e.HireDate = '{hire_date}'\n",
    "    \"\"\"\n",
    "    return pd.read_sql(query, engine)\n",
    "\n",
    "# Example usage\n",
    "dept_employee_df = get_employee_by_dept_and_hiredate(16, '2009-01-14')\n",
    "print(dept_employee_df)\n"
   ]
  },
  {
   "cell_type": "code",
   "execution_count": 32,
   "id": "cc204c7d-1a90-49f3-b303-cc7e52fb5440",
   "metadata": {},
   "outputs": [
    {
     "data": {
      "text/html": [
       "<div>\n",
       "<style scoped>\n",
       "    .dataframe tbody tr th:only-of-type {\n",
       "        vertical-align: middle;\n",
       "    }\n",
       "\n",
       "    .dataframe tbody tr th {\n",
       "        vertical-align: top;\n",
       "    }\n",
       "\n",
       "    .dataframe thead th {\n",
       "        text-align: right;\n",
       "    }\n",
       "</style>\n",
       "<table border=\"1\" class=\"dataframe\">\n",
       "  <thead>\n",
       "    <tr style=\"text-align: right;\">\n",
       "      <th></th>\n",
       "      <th>BusinessEntityID</th>\n",
       "      <th>DaysSinceLastPromotion</th>\n",
       "    </tr>\n",
       "  </thead>\n",
       "  <tbody>\n",
       "    <tr>\n",
       "      <th>0</th>\n",
       "      <td>1</td>\n",
       "      <td>5725</td>\n",
       "    </tr>\n",
       "    <tr>\n",
       "      <th>1</th>\n",
       "      <td>2</td>\n",
       "      <td>6074</td>\n",
       "    </tr>\n",
       "    <tr>\n",
       "      <th>2</th>\n",
       "      <td>3</td>\n",
       "      <td>6155</td>\n",
       "    </tr>\n",
       "    <tr>\n",
       "      <th>3</th>\n",
       "      <td>4</td>\n",
       "      <td>4660</td>\n",
       "    </tr>\n",
       "    <tr>\n",
       "      <th>4</th>\n",
       "      <td>5</td>\n",
       "      <td>6099</td>\n",
       "    </tr>\n",
       "    <tr>\n",
       "      <th>...</th>\n",
       "      <td>...</td>\n",
       "      <td>...</td>\n",
       "    </tr>\n",
       "    <tr>\n",
       "      <th>285</th>\n",
       "      <td>286</td>\n",
       "      <td>4128</td>\n",
       "    </tr>\n",
       "    <tr>\n",
       "      <th>286</th>\n",
       "      <td>287</td>\n",
       "      <td>4537</td>\n",
       "    </tr>\n",
       "    <tr>\n",
       "      <th>287</th>\n",
       "      <td>288</td>\n",
       "      <td>4128</td>\n",
       "    </tr>\n",
       "    <tr>\n",
       "      <th>288</th>\n",
       "      <td>289</td>\n",
       "      <td>4493</td>\n",
       "    </tr>\n",
       "    <tr>\n",
       "      <th>289</th>\n",
       "      <td>290</td>\n",
       "      <td>4493</td>\n",
       "    </tr>\n",
       "  </tbody>\n",
       "</table>\n",
       "<p>290 rows × 2 columns</p>\n",
       "</div>"
      ],
      "text/plain": [
       "     BusinessEntityID  DaysSinceLastPromotion\n",
       "0                   1                    5725\n",
       "1                   2                    6074\n",
       "2                   3                    6155\n",
       "3                   4                    4660\n",
       "4                   5                    6099\n",
       "..                ...                     ...\n",
       "285               286                    4128\n",
       "286               287                    4537\n",
       "287               288                    4128\n",
       "288               289                    4493\n",
       "289               290                    4493\n",
       "\n",
       "[290 rows x 2 columns]"
      ]
     },
     "execution_count": 32,
     "metadata": {},
     "output_type": "execute_result"
    }
   ],
   "source": [
    "# 20. Days since last promotion (assuming last promotion is the most recent RateChangeDate)\n",
    "query20 = \"\"\"\n",
    "SELECT \n",
    "    e.BusinessEntityID,\n",
    "    DATEDIFF(DAY, MAX(eph.RateChangeDate), GETDATE()) AS DaysSinceLastPromotion\n",
    "FROM \n",
    "    HumanResources.Employee AS e\n",
    "JOIN \n",
    "    HumanResources.EmployeePayHistory AS eph\n",
    "    ON e.BusinessEntityID = eph.BusinessEntityID\n",
    "GROUP BY \n",
    "    e.BusinessEntityID;\n",
    "\n",
    "\"\"\"\n",
    "person_promotion = pd.read_sql(query20, engine)\n",
    "person_promotion"
   ]
  },
  {
   "cell_type": "code",
   "execution_count": 58,
   "id": "15357238-8166-4718-b218-9ec79e08347a",
   "metadata": {},
   "outputs": [
    {
     "name": "stdout",
     "output_type": "stream",
     "text": [
      "   EmailPromotion  TotalPeople\n",
      "0               0        11158\n",
      "1               1         5044\n",
      "2               2         3770\n"
     ]
    }
   ],
   "source": [
    "#21. Analyze the effectiveness of employee development programs.\t\t\t\t\t\t\n",
    "query21 = \"\"\"\n",
    "SELECT \n",
    "    p.EmailPromotion, \n",
    "    COUNT(p.BusinessEntityID) AS TotalPeople\n",
    "FROM \n",
    "    Person.Person AS p\n",
    "GROUP BY \n",
    "    p.EmailPromotion;\n",
    "\"\"\"\n",
    "email_df = pd.read_sql(query21, engine)\n",
    "print(email_df)\n"
   ]
  },
  {
   "cell_type": "code",
   "execution_count": 40,
   "id": "24865682-1ac4-4476-b9eb-f3470485d6db",
   "metadata": {},
   "outputs": [
    {
     "name": "stdout",
     "output_type": "stream",
     "text": [
      "     EmployeeID FirstName           LastName  ShiftCount\n",
      "0           250    Sheela               Word           3\n",
      "1             4       Rob            Walters           2\n",
      "2           224   William               Vong           2\n",
      "3           234     Laura             Norman           2\n",
      "4            16     David            Bradley           2\n",
      "..          ...       ...                ...         ...\n",
      "285         289       Jae                Pak           1\n",
      "286         290    Ranjit  Varkey Chudukatil           1\n",
      "287           1       Ken            Sánchez           1\n",
      "288           2     Terri              Duffy           1\n",
      "289           3   Roberto         Tamburello           1\n",
      "\n",
      "[290 rows x 4 columns]\n"
     ]
    }
   ],
   "source": [
    "# Query to find employees with the highest number of shifts\n",
    "query22 = \"\"\"\n",
    "SELECT \n",
    "    e.BusinessEntityID as EmployeeID, \n",
    "    p.FirstName, \n",
    "    p.LastName, \n",
    "    COUNT(edh.ShiftID) as ShiftCount\n",
    "FROM HumanResources.EmployeeDepartmentHistory edh\n",
    "JOIN HumanResources.Employee e ON edh.BusinessEntityID = e.BusinessEntityID\n",
    "JOIN Person.Person p ON e.BusinessEntityID = p.BusinessEntityID\n",
    "GROUP BY e.BusinessEntityID, p.FirstName, p.LastName\n",
    "ORDER BY ShiftCount DESC\n",
    "\"\"\"\n",
    "top_shift_employees_df = pd.read_sql(query22, engine)\n",
    "print(top_shift_employees_df)\n"
   ]
  },
  {
   "cell_type": "code",
   "execution_count": 44,
   "id": "45443f30-6003-41b7-b11e-ba0fec774baa",
   "metadata": {},
   "outputs": [
    {
     "name": "stdout",
     "output_type": "stream",
     "text": [
      "     EmployeeID  ShiftDuration\n",
      "0             1              8\n",
      "1             2              8\n",
      "2             3              8\n",
      "3             4              8\n",
      "4             4              8\n",
      "..          ...            ...\n",
      "291         213             16\n",
      "292         218             16\n",
      "293         226             16\n",
      "294         229             16\n",
      "295         231             16\n",
      "\n",
      "[296 rows x 2 columns]\n"
     ]
    }
   ],
   "source": [
    "query23 = \"\"\"\n",
    "SELECT \n",
    "    e.BusinessEntityID as EmployeeID, \n",
    "    ABS(DATEDIFF(HOUR, s.EndTime, s.StartTime)) as ShiftDuration\n",
    "FROM HumanResources.EmployeeDepartmentHistory edh\n",
    "JOIN HumanResources.Employee e ON edh.BusinessEntityID = e.BusinessEntityID\n",
    "JOIN HumanResources.Shift s ON edh.ShiftID = s.ShiftID\n",
    "\"\"\"\n",
    "compliance_df = pd.read_sql(query23, engine)\n",
    "print(compliance_df)\n"
   ]
  },
  {
   "cell_type": "code",
   "execution_count": 48,
   "id": "a7eb5519-d2cb-4c6e-9f3d-463fba727c5f",
   "metadata": {},
   "outputs": [
    {
     "name": "stdout",
     "output_type": "stream",
     "text": [
      "                DepartmentName  TotalPromotionEmails  Rank\n",
      "0                   Production                   129   1.0\n",
      "1                        Sales                    10   2.5\n",
      "2                    Marketing                    10   2.5\n",
      "3                   Purchasing                     8   4.0\n",
      "4         Information Services                     6   5.5\n",
      "5                      Finance                     6   5.5\n",
      "6                  Engineering                     5   7.0\n",
      "7              Human Resources                     4  10.0\n",
      "8            Quality Assurance                     4  10.0\n",
      "9     Research and Development                     4  10.0\n",
      "10      Shipping and Receiving                     4  10.0\n",
      "11                 Tool Design                     4  10.0\n",
      "12            Document Control                     2  13.5\n",
      "13          Production Control                     2  13.5\n",
      "14                   Executive                     1  15.0\n",
      "15  Facilities and Maintenance                     0  16.0\n"
     ]
    }
   ],
   "source": [
    "#24. Determine the distribution of employee performance ratings across departments.\t\t\t\t\n",
    "query24 = \"\"\"\n",
    "SELECT \n",
    "    d.Name AS DepartmentName,\n",
    "    SUM(p.EmailPromotion) AS TotalPromotionEmails\n",
    "FROM \n",
    "    Person.Person AS p\n",
    "JOIN \n",
    "    HumanResources.Employee AS e ON p.BusinessEntityID = e.BusinessEntityID\n",
    "JOIN \n",
    "    HumanResources.EmployeeDepartmentHistory AS edh ON e.BusinessEntityID = edh.BusinessEntityID\n",
    "JOIN \n",
    "    HumanResources.Department AS d ON edh.DepartmentID = d.DepartmentID\n",
    "GROUP BY \n",
    "    d.Name\n",
    "ORDER BY \n",
    "    TotalPromotionEmails DESC;\n",
    "\n",
    "\n",
    "\"\"\"\n",
    "shift_email_distribution_df = pd.read_sql(query24, engine)\n",
    "shift_email_distribution_df['Rank'] = shift_email_distribution_df['TotalPromotionEmails'].rank(ascending=False)\n",
    "print(shift_email_distribution_df.sort_values('Rank'))\n"
   ]
  }
 ],
 "metadata": {
  "kernelspec": {
   "display_name": "Python 3 (ipykernel)",
   "language": "python",
   "name": "python3"
  },
  "language_info": {
   "codemirror_mode": {
    "name": "ipython",
    "version": 3
   },
   "file_extension": ".py",
   "mimetype": "text/x-python",
   "name": "python",
   "nbconvert_exporter": "python",
   "pygments_lexer": "ipython3",
   "version": "3.12.1"
  }
 },
 "nbformat": 4,
 "nbformat_minor": 5
}
