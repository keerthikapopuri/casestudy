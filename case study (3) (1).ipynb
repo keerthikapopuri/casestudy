{
 "cells": [
  {
   "cell_type": "code",
   "execution_count": 3,
   "id": "982fa9e6-a78f-4bfb-97c1-596d4c2f5632",
   "metadata": {},
   "outputs": [],
   "source": [
    "import numpy as np\n",
    "import pandas as pd"
   ]
  },
  {
   "cell_type": "code",
   "execution_count": 4,
   "id": "7ccf955c-dc9a-488c-89a8-e528cec12614",
   "metadata": {},
   "outputs": [
    {
     "name": "stdout",
     "output_type": "stream",
     "text": [
      "Requirement already satisfied: pyodbc in c:\\python312\\lib\\site-packages (5.1.0)\n",
      "Requirement already satisfied: pandas in c:\\python312\\lib\\site-packages (2.2.1)\n",
      "Requirement already satisfied: numpy<2,>=1.26.0 in c:\\python312\\lib\\site-packages (from pandas) (1.26.4)\n",
      "Requirement already satisfied: python-dateutil>=2.8.2 in c:\\python312\\lib\\site-packages (from pandas) (2.8.2)\n",
      "Requirement already satisfied: pytz>=2020.1 in c:\\python312\\lib\\site-packages (from pandas) (2024.1)\n",
      "Requirement already satisfied: tzdata>=2022.7 in c:\\python312\\lib\\site-packages (from pandas) (2024.1)\n",
      "Requirement already satisfied: six>=1.5 in c:\\python312\\lib\\site-packages (from python-dateutil>=2.8.2->pandas) (1.16.0)\n"
     ]
    },
    {
     "name": "stderr",
     "output_type": "stream",
     "text": [
      "WARNING: Ignoring invalid distribution ~ (C:\\Python312\\Lib\\site-packages)\n",
      "WARNING: Ignoring invalid distribution ~-p (C:\\Python312\\Lib\\site-packages)\n",
      "WARNING: Ignoring invalid distribution ~=p (C:\\Python312\\Lib\\site-packages)\n",
      "WARNING: Ignoring invalid distribution ~ip (C:\\Python312\\Lib\\site-packages)\n",
      "WARNING: Ignoring invalid distribution ~~p (C:\\Python312\\Lib\\site-packages)\n",
      "WARNING: Ignoring invalid distribution ~ (C:\\Python312\\Lib\\site-packages)\n",
      "WARNING: Ignoring invalid distribution ~-p (C:\\Python312\\Lib\\site-packages)\n",
      "WARNING: Ignoring invalid distribution ~=p (C:\\Python312\\Lib\\site-packages)\n",
      "WARNING: Ignoring invalid distribution ~ip (C:\\Python312\\Lib\\site-packages)\n",
      "WARNING: Ignoring invalid distribution ~~p (C:\\Python312\\Lib\\site-packages)\n",
      "WARNING: Ignoring invalid distribution ~ (C:\\Python312\\Lib\\site-packages)\n",
      "WARNING: Ignoring invalid distribution ~-p (C:\\Python312\\Lib\\site-packages)\n",
      "WARNING: Ignoring invalid distribution ~=p (C:\\Python312\\Lib\\site-packages)\n",
      "WARNING: Ignoring invalid distribution ~ip (C:\\Python312\\Lib\\site-packages)\n",
      "WARNING: Ignoring invalid distribution ~~p (C:\\Python312\\Lib\\site-packages)\n"
     ]
    }
   ],
   "source": [
    "!pip install pyodbc pandas\n"
   ]
  },
  {
   "cell_type": "code",
   "execution_count": 5,
   "id": "f88fd32b-9f0b-4d27-b58f-67f084f83446",
   "metadata": {},
   "outputs": [
    {
     "name": "stdout",
     "output_type": "stream",
     "text": [
      "Requirement already satisfied: sqlalchemy in c:\\python312\\lib\\site-packages (2.0.31)\n",
      "Requirement already satisfied: pyodbc in c:\\python312\\lib\\site-packages (5.1.0)\n",
      "Requirement already satisfied: pandas in c:\\python312\\lib\\site-packages (2.2.1)\n",
      "Requirement already satisfied: typing-extensions>=4.6.0 in c:\\users\\hp\\appdata\\roaming\\python\\python312\\site-packages (from sqlalchemy) (4.10.0)\n",
      "Requirement already satisfied: greenlet!=0.4.17 in c:\\python312\\lib\\site-packages (from sqlalchemy) (3.0.3)\n",
      "Requirement already satisfied: numpy<2,>=1.26.0 in c:\\python312\\lib\\site-packages (from pandas) (1.26.4)\n",
      "Requirement already satisfied: python-dateutil>=2.8.2 in c:\\python312\\lib\\site-packages (from pandas) (2.8.2)\n",
      "Requirement already satisfied: pytz>=2020.1 in c:\\python312\\lib\\site-packages (from pandas) (2024.1)\n",
      "Requirement already satisfied: tzdata>=2022.7 in c:\\python312\\lib\\site-packages (from pandas) (2024.1)\n",
      "Requirement already satisfied: six>=1.5 in c:\\python312\\lib\\site-packages (from python-dateutil>=2.8.2->pandas) (1.16.0)\n"
     ]
    },
    {
     "name": "stderr",
     "output_type": "stream",
     "text": [
      "WARNING: Ignoring invalid distribution ~ (C:\\Python312\\Lib\\site-packages)\n",
      "WARNING: Ignoring invalid distribution ~-p (C:\\Python312\\Lib\\site-packages)\n",
      "WARNING: Ignoring invalid distribution ~=p (C:\\Python312\\Lib\\site-packages)\n",
      "WARNING: Ignoring invalid distribution ~ip (C:\\Python312\\Lib\\site-packages)\n",
      "WARNING: Ignoring invalid distribution ~~p (C:\\Python312\\Lib\\site-packages)\n",
      "WARNING: Ignoring invalid distribution ~ (C:\\Python312\\Lib\\site-packages)\n",
      "WARNING: Ignoring invalid distribution ~-p (C:\\Python312\\Lib\\site-packages)\n",
      "WARNING: Ignoring invalid distribution ~=p (C:\\Python312\\Lib\\site-packages)\n",
      "WARNING: Ignoring invalid distribution ~ip (C:\\Python312\\Lib\\site-packages)\n",
      "WARNING: Ignoring invalid distribution ~~p (C:\\Python312\\Lib\\site-packages)\n",
      "WARNING: Ignoring invalid distribution ~ (C:\\Python312\\Lib\\site-packages)\n",
      "WARNING: Ignoring invalid distribution ~-p (C:\\Python312\\Lib\\site-packages)\n",
      "WARNING: Ignoring invalid distribution ~=p (C:\\Python312\\Lib\\site-packages)\n",
      "WARNING: Ignoring invalid distribution ~ip (C:\\Python312\\Lib\\site-packages)\n",
      "WARNING: Ignoring invalid distribution ~~p (C:\\Python312\\Lib\\site-packages)\n"
     ]
    }
   ],
   "source": [
    "!pip install sqlalchemy pyodbc pandas\n"
   ]
  },
  {
   "cell_type": "code",
   "execution_count": 3,
   "id": "07a84eb7-ddc8-4304-8b83-d3657473f724",
   "metadata": {},
   "outputs": [
    {
     "name": "stdout",
     "output_type": "stream",
     "text": [
      "   DepartmentID         Name                 GroupName ModifiedDate\n",
      "0             1  Engineering  Research and Development   2008-04-30\n",
      "1             2  Tool Design  Research and Development   2008-04-30\n",
      "2             3        Sales       Sales and Marketing   2008-04-30\n",
      "3             4    Marketing       Sales and Marketing   2008-04-30\n",
      "4             5   Purchasing      Inventory Management   2008-04-30\n"
     ]
    }
   ],
   "source": [
    "from sqlalchemy import create_engine\n",
    "import pandas as pd\n",
    "\n",
    "# Define the connection string\n",
    "connection_string = (\n",
    "    \"mssql+pyodbc://DESKTOP-45PMML3/AdventureWorks2022\"\n",
    "    \"?driver=SQL+Server\"\n",
    ")\n",
    "\n",
    "# Create the SQLAlchemy engine\n",
    "engine = create_engine(connection_string)\n",
    "\n",
    "try:\n",
    "    # Define SQL query\n",
    "    query = \"SELECT TOP 10 * FROM [HumanResources].[Department]\"\n",
    "\n",
    "    # Execute query and Load into DataFrame\n",
    "    df = pd.read_sql(query, engine)\n",
    "\n",
    "    # Show the results\n",
    "    print(df.head())\n",
    "\n",
    "except Exception as e:\n",
    "    print(f\"Error: {e}\")\n"
   ]
  },
  {
   "cell_type": "code",
   "execution_count": 6,
   "id": "8ba017eb-fab7-48ea-9193-393fc6ce6b0a",
   "metadata": {},
   "outputs": [
    {
     "name": "stdout",
     "output_type": "stream",
     "text": [
      "     EmployeeID FirstName           LastName\n",
      "0             1       Ken            Sánchez\n",
      "1             2     Terri              Duffy\n",
      "2             3   Roberto         Tamburello\n",
      "3             4       Rob            Walters\n",
      "4             5      Gail           Erickson\n",
      "..          ...       ...                ...\n",
      "285         286      Lynn           Tsoflias\n",
      "286         287       Amy            Alberts\n",
      "287         288    Rachel             Valdez\n",
      "288         289       Jae                Pak\n",
      "289         290    Ranjit  Varkey Chudukatil\n",
      "\n",
      "[290 rows x 3 columns]\n"
     ]
    }
   ],
   "source": [
    "# Perform a merge based on BusinessEntityID (equivalent to JOIN in SQL)\n",
    "merged_df = pd.merge(employee_df[['BusinessEntityID']], \n",
    "                     person_df[['BusinessEntityID', 'FirstName', 'LastName']], \n",
    "                     on='BusinessEntityID')\n",
    "\n",
    "# Rename the BusinessEntityID column to EmployeeID\n",
    "merged_df = merged_df.rename(columns={'BusinessEntityID': 'EmployeeID'})\n",
    "\n",
    "# Display the result\n",
    "print(merged_df)\n"
   ]
  },
  {
   "cell_type": "code",
   "execution_count": 8,
   "id": "c62a84ac-59a3-4880-b2f6-c2911f81828e",
   "metadata": {},
   "outputs": [
    {
     "name": "stdout",
     "output_type": "stream",
     "text": [
      "     EmployeeID FirstName     LastName\n",
      "59          285      Syed        Abbas\n",
      "251          38       Kim  Abercrombie\n",
      "142         211     Hazem     Abolrous\n",
      "239         121     Pilar     Ackerman\n",
      "240          67       Jay        Adams\n",
      "..          ...       ...          ...\n",
      "248          99      Nuan           Yu\n",
      "212         129      Gary       Yukish\n",
      "39          173    Eugene  Zabokritski\n",
      "56           91  Kimberly    Zimmerman\n",
      "234          64   Michael     Zwilling\n",
      "\n",
      "[290 rows x 3 columns]\n"
     ]
    }
   ],
   "source": [
    "# 2. Sort the Employee DataFrame by LastName in ascending order\n",
    "sorted_employee_df = employee_df.sort_values(by='LastName')\n",
    "print(sorted_employee_df)"
   ]
  },
  {
   "cell_type": "code",
   "execution_count": 5,
   "id": "794b6abd-2650-41d7-8d28-092073b1e1f4",
   "metadata": {},
   "outputs": [
    {
     "name": "stdout",
     "output_type": "stream",
     "text": [
      "                          JobTitle\n",
      "0          Chief Executive Officer\n",
      "1    Vice President of Engineering\n",
      "2              Engineering Manager\n",
      "3             Senior Tool Designer\n",
      "4                  Design Engineer\n",
      "..                             ...\n",
      "272        Vice President of Sales\n",
      "273   North American Sales Manager\n",
      "274           Sales Representative\n",
      "284          Pacific Sales Manager\n",
      "286         European Sales Manager\n",
      "\n",
      "[67 rows x 1 columns]\n"
     ]
    }
   ],
   "source": [
    "\n",
    "job_titles_df = employee_df[['JobTitle']].drop_duplicates()\n",
    "print(job_titles_df)\n"
   ]
  },
  {
   "cell_type": "code",
   "execution_count": 4,
   "id": "feda4ef0-3555-4a3d-8a58-d716b1ee9029",
   "metadata": {},
   "outputs": [
    {
     "name": "stdout",
     "output_type": "stream",
     "text": [
      "     BusinessEntityID NationalIDNumber                   LoginID  \\\n",
      "0                   1        295847284      adventure-works\\ken0   \n",
      "1                   2        245797967    adventure-works\\terri0   \n",
      "2                   3        509647174  adventure-works\\roberto0   \n",
      "3                   4        112457891      adventure-works\\rob0   \n",
      "4                   5        695256908     adventure-works\\gail0   \n",
      "..                ...              ...                       ...   \n",
      "285               286        758596752     adventure-works\\lynn0   \n",
      "286               287        982310417      adventure-works\\amy0   \n",
      "287               288        954276278   adventure-works\\rachel0   \n",
      "288               289        668991357      adventure-works\\jae0   \n",
      "289               290        134219713   adventure-works\\ranjit0   \n",
      "\n",
      "    OrganizationNode  OrganizationLevel                       JobTitle  \\\n",
      "0               None                NaN        Chief Executive Officer   \n",
      "1               b'X'                1.0  Vice President of Engineering   \n",
      "2           b'Z\\xc0'                2.0            Engineering Manager   \n",
      "3           b'Z\\xd6'                3.0           Senior Tool Designer   \n",
      "4           b'Z\\xda'                3.0                Design Engineer   \n",
      "..               ...                ...                            ...   \n",
      "285      b'\\x95\\xab'                3.0           Sales Representative   \n",
      "286      b'\\x95\\xe0'                2.0         European Sales Manager   \n",
      "287      b'\\x95\\xeb'                3.0           Sales Representative   \n",
      "288      b'\\x95\\xed'                3.0           Sales Representative   \n",
      "289      b'\\x95\\xef'                3.0           Sales Representative   \n",
      "\n",
      "      BirthDate MaritalStatus Gender    HireDate  SalariedFlag  VacationHours  \\\n",
      "0    1969-01-29             S      M  2009-01-14          True             99   \n",
      "1    1971-08-01             S      F  2008-01-31          True              1   \n",
      "2    1974-11-12             M      M  2007-11-11          True              2   \n",
      "3    1974-12-23             S      M  2007-12-05         False             48   \n",
      "4    1952-09-27             M      F  2008-01-06          True              5   \n",
      "..          ...           ...    ...         ...           ...            ...   \n",
      "285  1977-02-14             S      F  2013-05-30          True             36   \n",
      "286  1957-09-20             M      F  2012-04-16          True             21   \n",
      "287  1975-07-09             S      F  2013-05-30          True             35   \n",
      "288  1968-03-17             M      F  2012-05-30          True             37   \n",
      "289  1975-09-30             S      M  2012-05-30          True             34   \n",
      "\n",
      "     SickLeaveHours  CurrentFlag                               rowguid  \\\n",
      "0                69         True  F01251E5-96A3-448D-981E-0F99D789110D   \n",
      "1                20         True  45E8F437-670D-4409-93CB-F9424A40D6EE   \n",
      "2                21         True  9BBBFB2C-EFBB-4217-9AB7-F97689328841   \n",
      "3                80         True  59747955-87B8-443F-8ED4-F8AD3AFDF3A9   \n",
      "4                22         True  EC84AE09-F9B8-4A15-B4A9-6CCBAB919B08   \n",
      "..              ...          ...                                   ...   \n",
      "285              38         True  4A9A8407-A680-4A6B-8D03-511CB58F9A8A   \n",
      "286              30         True  66D66445-EE78-4676-9E66-0E22D6109A92   \n",
      "287              37         True  B9BF7741-E0CA-4F37-ACDE-A4F78C6D03E9   \n",
      "288              38         True  723A5921-D8A1-4659-9BC4-13C4CF7C9C91   \n",
      "289              37         True  604213F9-DD0F-43B4-BDD2-C96E93D3F4BF   \n",
      "\n",
      "    ModifiedDate  \n",
      "0     2014-06-30  \n",
      "1     2014-06-30  \n",
      "2     2014-06-30  \n",
      "3     2014-06-30  \n",
      "4     2014-06-30  \n",
      "..           ...  \n",
      "285   2014-06-30  \n",
      "286   2014-06-30  \n",
      "287   2014-06-30  \n",
      "288   2014-06-30  \n",
      "289   2014-06-30  \n",
      "\n",
      "[290 rows x 16 columns]\n"
     ]
    }
   ],
   "source": [
    "# List of all tables in HumanResources schema and Person.Person table\n",
    "import pandas as pd\n",
    "tables = [\n",
    "    \"HumanResources.Employee\",\n",
    "    \"HumanResources.Department\",\n",
    "    \"HumanResources.EmployeeDepartmentHistory\",\n",
    "    \"HumanResources.EmployeePayHistory\",\n",
    "    \"HumanResources.JobCandidate\",\n",
    "    \"HumanResources.Shift\",\n",
    "    \"Person.Person\"\n",
    "]\n",
    "\n",
    "# Load each table into a dictionary of DataFrames\n",
    "dfs = {}\n",
    "for table in tables:\n",
    "    query = f\"SELECT * FROM {table}\"\n",
    "    dfs[table.split('.')[-1]] = pd.read_sql(query, engine)\n",
    "\n",
    "# Access each table using the table name\n",
    "employee_df = dfs['Employee']\n",
    "department_df = dfs['Department']\n",
    "employee_department_history_df = dfs['EmployeeDepartmentHistory']\n",
    "employee_pay_history_df = dfs['EmployeePayHistory']\n",
    "job_candidate_df = dfs['JobCandidate']\n",
    "shift_df = dfs['Shift']\n",
    "person_df = dfs['Person']\n",
    "\n",
    "# Example: Print Employee DataFrame\n",
    "print(employee_df)\n"
   ]
  },
  {
   "cell_type": "code",
   "execution_count": 7,
   "id": "99be49ce-8226-4774-b2f7-f16b98585054",
   "metadata": {},
   "outputs": [
    {
     "name": "stdout",
     "output_type": "stream",
     "text": [
      "     EmployeeID                          JobTitle  FirstName  \\\n",
      "2             3               Engineering Manager    Roberto   \n",
      "6             7  Research and Development Manager      Dylan   \n",
      "9            10  Research and Development Manager    Michael   \n",
      "15           16                 Marketing Manager      David   \n",
      "25           26        Production Control Manager      Peter   \n",
      "210         211         Quality Assurance Manager      Hazem   \n",
      "216         217          Document Control Manager     Zainal   \n",
      "226         227                Facilities Manager       Gary   \n",
      "234         235           Human Resources Manager      Paula   \n",
      "240         241                  Accounts Manager      David   \n",
      "248         249                   Finance Manager      Wendy   \n",
      "249         250                Purchasing Manager     Sheela   \n",
      "262         263      Information Services Manager       Jean   \n",
      "263         264                   Network Manager  Stephanie   \n",
      "273         274      North American Sales Manager    Stephen   \n",
      "284         285             Pacific Sales Manager       Syed   \n",
      "286         287            European Sales Manager        Amy   \n",
      "\n",
      "              LastName  \n",
      "2           Tamburello  \n",
      "6               Miller  \n",
      "9               Raheem  \n",
      "15             Bradley  \n",
      "25               Krebs  \n",
      "210           Abolrous  \n",
      "216             Arifin  \n",
      "226             Altman  \n",
      "234  Barreto de Mattos  \n",
      "240                Liu  \n",
      "248               Kahn  \n",
      "249               Word  \n",
      "262            Trenary  \n",
      "263             Conroy  \n",
      "273              Jiang  \n",
      "284              Abbas  \n",
      "286            Alberts  \n"
     ]
    }
   ],
   "source": [
    "# 4. Filter employees with JobTitle containing 'Manager'\n",
    "\n",
    "merged_df = pd.merge(employee_df[['BusinessEntityID', 'JobTitle']], \n",
    "                     person_df[['BusinessEntityID', 'FirstName', 'LastName']], \n",
    "                     on='BusinessEntityID')\n",
    "\n",
    "# Filter rows where 'JobTitle' contains 'Manager'\n",
    "manager_df = merged_df[merged_df['JobTitle'].str.contains('Manager', case=False, na=False)]\n",
    "\n",
    "# Rename 'BusinessEntityID' to 'EmployeeID'\n",
    "manager_df = manager_df.rename(columns={'BusinessEntityID': 'EmployeeID'})\n",
    "\n",
    "# Display the result\n",
    "print(manager_df)\n"
   ]
  },
  {
   "cell_type": "code",
   "execution_count": 8,
   "id": "712617a7-b327-460a-a258-ad44be82bd9e",
   "metadata": {},
   "outputs": [
    {
     "name": "stdout",
     "output_type": "stream",
     "text": [
      "   TotalEmployees\n",
      "0             290\n"
     ]
    }
   ],
   "source": [
    "# 5. Count the total number of employees in the Employee DataFrame\n",
    "\n",
    "# Get the total number of employees\n",
    "total_employees = len(employee_df)\n",
    "\n",
    "# Convert it to a DataFrame for consistent format\n",
    "total_employees_df = pd.DataFrame({'TotalEmployees': [total_employees]})\n",
    "\n",
    "# Display the result\n",
    "print(total_employees_df)\n"
   ]
  },
  {
   "cell_type": "code",
   "execution_count": 9,
   "id": "d5c22b70-2a3e-484f-99be-1df48d9406e2",
   "metadata": {},
   "outputs": [
    {
     "name": "stdout",
     "output_type": "stream",
     "text": [
      "Empty DataFrame\n",
      "Columns: [BusinessEntityID]\n",
      "Index: []\n"
     ]
    }
   ],
   "source": [
    "# 6. Find employees who are currently on leave.\t\t\t\t\n",
    "# Filter the rows where 'CurrentFlag' is 0 (on leave)\n",
    "onleave_df = employee_df[employee_df['CurrentFlag'] == 0][['BusinessEntityID']]\n",
    "\n",
    "# Display the result\n",
    "print(onleave_df)\n"
   ]
  },
  {
   "cell_type": "code",
   "execution_count": 10,
   "id": "6394362e-f0c1-4b40-98f6-48f6e36f4c3f",
   "metadata": {},
   "outputs": [
    {
     "name": "stdout",
     "output_type": "stream",
     "text": [
      "Empty DataFrame\n",
      "Columns: [EmployeeID, FirstName, LastName, RateChangeDate]\n",
      "Index: []\n"
     ]
    }
   ],
   "source": [
    "# 7. Check for any missing hire dates in the Employee DataFrame\n",
    "\n",
    "# Merge Employee, Person, and EmployeePayHistory DataFrames on 'BusinessEntityID'\n",
    "merged_df = pd.merge(employee_df[['BusinessEntityID']], \n",
    "                     person_df[['BusinessEntityID', 'FirstName', 'LastName']], \n",
    "                     on='BusinessEntityID')\n",
    "merged_df = pd.merge(merged_df, \n",
    "                     employee_pay_history_df[['BusinessEntityID', 'RateChangeDate']], \n",
    "                     on='BusinessEntityID')\n",
    "\n",
    "# Filter rows where 'RateChangeDate' is missing (NaN)\n",
    "missing_hire_dates_df = merged_df[merged_df['RateChangeDate'].isna()]\n",
    "\n",
    "# Rename 'BusinessEntityID' to 'EmployeeID'\n",
    "missing_hire_dates_df = missing_hire_dates_df.rename(columns={'BusinessEntityID': 'EmployeeID'})\n",
    "\n",
    "# Display the result\n",
    "print(missing_hire_dates_df)\n"
   ]
  },
  {
   "cell_type": "code",
   "execution_count": 11,
   "id": "c441c9e6-bd8c-42ba-9c1a-161dab595166",
   "metadata": {},
   "outputs": [
    {
     "name": "stdout",
     "output_type": "stream",
     "text": [
      "     BusinessEntityID FirstName        LastName  Age\n",
      "4                   5      Gail        Erickson   72\n",
      "5                   6    Jossef        Goldberg   65\n",
      "11                 12   Thierry          D'Hers   65\n",
      "14                 15    Sharon       Salavaria   63\n",
      "22                 23      Mary          Gibson   62\n",
      "26                 27        Jo           Brown   68\n",
      "39                 40    JoLynn          Dobney   68\n",
      "47                 48      Ruth      Ellerbrock   68\n",
      "48                 49     Barry         Johnson   68\n",
      "49                 50    Sidney            Higa   68\n",
      "50                 51   Jeffrey            Ford   68\n",
      "51                 52     Doris         Hartwig   68\n",
      "52                 53     Diane           Glimp   68\n",
      "54                 55    Taylor         Maxwell   68\n",
      "61                 62      John        Campbell   68\n",
      "62                 63    Maciej           Dusza   69\n",
      "83                 84     Frank        Martinez   72\n",
      "139               140  Prasanna  Samarawickrama   71\n",
      "205               206    Stuart          Munson   62\n",
      "230               231        Jo           Berry   70\n",
      "255               256     Frank          Pellow   72\n",
      "261               262     David          Barber   60\n",
      "273               274   Stephen           Jiang   73\n",
      "276               277   Jillian          Carson   62\n",
      "281               282      José         Saraiva   61\n",
      "286               287       Amy         Alberts   67\n"
     ]
    }
   ],
   "source": [
    "from datetime import datetime, timedelta\n",
    "\n",
    "# 8. Select employees who are eligible for retirement\n",
    "\n",
    "from datetime import datetime\n",
    "\n",
    "# Merge Employee and Person DataFrames on 'BusinessEntityID'\n",
    "merged_df = pd.merge(employee_df[['BusinessEntityID', 'BirthDate']], \n",
    "                     person_df[['BusinessEntityID', 'FirstName', 'LastName']], \n",
    "                     on='BusinessEntityID')\n",
    "\n",
    "# Calculate age\n",
    "current_year = datetime.now().year\n",
    "merged_df['Age'] = current_year - pd.to_datetime(merged_df['BirthDate']).dt.year\n",
    "\n",
    "# Filter rows where age is 60 or more\n",
    "retirement_eligible_df = merged_df[merged_df['Age'] >= 60]\n",
    "\n",
    "# Display the result\n",
    "print(retirement_eligible_df[['BusinessEntityID', 'FirstName', 'LastName', 'Age']])\n"
   ]
  },
  {
   "cell_type": "code",
   "execution_count": 12,
   "id": "34471375-4a80-4983-8b95-a4cacc11f139",
   "metadata": {},
   "outputs": [
    {
     "name": "stdout",
     "output_type": "stream",
     "text": [
      "    DepartmentID                        Name  TotalEmployees\n",
      "0              1                 Engineering               7\n",
      "1              2                 Tool Design               4\n",
      "2              3                       Sales              18\n",
      "3              4                   Marketing              10\n",
      "4              5                  Purchasing              13\n",
      "5              6    Research and Development               4\n",
      "6              7                  Production             180\n",
      "7              8          Production Control               6\n",
      "8              9             Human Resources               6\n",
      "9             10                     Finance              11\n",
      "10            11        Information Services              10\n",
      "11            12            Document Control               5\n",
      "12            13           Quality Assurance               7\n",
      "13            14  Facilities and Maintenance               7\n",
      "14            15      Shipping and Receiving               6\n",
      "15            16                   Executive               2\n"
     ]
    }
   ],
   "source": [
    "# 9. Calculate the total number of employees in each department\n",
    "\n",
    "# Merge Employee, EmployeeDepartmentHistory, and Department DataFrames on 'BusinessEntityID' and 'DepartmentID'\n",
    "merged_df = pd.merge(employee_df[['BusinessEntityID']], \n",
    "                     employee_department_history_df[['BusinessEntityID', 'DepartmentID']], \n",
    "                     on='BusinessEntityID')\n",
    "merged_df = pd.merge(merged_df, \n",
    "                     department_df[['DepartmentID', 'Name']], \n",
    "                     on='DepartmentID')\n",
    "\n",
    "# Group by 'DepartmentID' and 'Name', then count employees\n",
    "employees_per_department_df = merged_df.groupby(['DepartmentID', 'Name']).size().reset_index(name='TotalEmployees')\n",
    "\n",
    "# Display the result\n",
    "print(employees_per_department_df)\n"
   ]
  },
  {
   "cell_type": "code",
   "execution_count": 13,
   "id": "292b3984-e0d0-415f-a28a-21b1e11764d8",
   "metadata": {},
   "outputs": [
    {
     "name": "stdout",
     "output_type": "stream",
     "text": [
      "     BusinessEntityID FirstName           LastName  DepartmentID  \\\n",
      "0                   1       Ken            Sánchez            16   \n",
      "1                   2     Terri              Duffy             1   \n",
      "2                   3   Roberto         Tamburello             1   \n",
      "3                   4       Rob            Walters             1   \n",
      "4                   4       Rob            Walters             2   \n",
      "..                ...       ...                ...           ...   \n",
      "291               286      Lynn           Tsoflias             3   \n",
      "292               287       Amy            Alberts             3   \n",
      "293               288    Rachel             Valdez             3   \n",
      "294               289       Jae                Pak             3   \n",
      "295               290    Ranjit  Varkey Chudukatil             3   \n",
      "\n",
      "    DepartmentName  \n",
      "0        Executive  \n",
      "1      Engineering  \n",
      "2      Engineering  \n",
      "3      Engineering  \n",
      "4      Tool Design  \n",
      "..             ...  \n",
      "291          Sales  \n",
      "292          Sales  \n",
      "293          Sales  \n",
      "294          Sales  \n",
      "295          Sales  \n",
      "\n",
      "[296 rows x 5 columns]\n"
     ]
    }
   ],
   "source": [
    "# 10. Merge the Employee and Department DataFrames on DepartmentID\n",
    "# Merge Employee, Person, EmployeeDepartmentHistory, and Department DataFrames\n",
    "employee_department_df = pd.merge(employee_df[['BusinessEntityID']], \n",
    "                                  person_df[['BusinessEntityID', 'FirstName', 'LastName']], \n",
    "                                  on='BusinessEntityID')\n",
    "employee_department_df = pd.merge(employee_department_df, \n",
    "                                  employee_department_history_df[['BusinessEntityID', 'DepartmentID']], \n",
    "                                  on='BusinessEntityID')\n",
    "employee_department_df = pd.merge(employee_department_df, \n",
    "                                  department_df[['DepartmentID', 'Name']], \n",
    "                                  on='DepartmentID')\n",
    "\n",
    "# Rename Department Name column\n",
    "employee_department_df = employee_department_df.rename(columns={'Name': 'DepartmentName'})\n",
    "\n",
    "# Display the result\n",
    "print(employee_department_df)\n"
   ]
  },
  {
   "cell_type": "code",
   "execution_count": 29,
   "id": "a2beb0db-8b0d-4f46-a614-b49c6eeeb9ec",
   "metadata": {},
   "outputs": [
    {
     "name": "stdout",
     "output_type": "stream",
     "text": [
      "   NumberOfPeople\n",
      "0               0\n"
     ]
    }
   ],
   "source": [
    "\n",
    "# 11. Create an intermediate DataFrame to calculate the number of employees hired in the last 12 months\n",
    "import pandas as pd\n",
    "from datetime import datetime, timedelta\n",
    "\n",
    "\n",
    "# Calculate the date 12 months ago\n",
    "twelve_months_ago = datetime.now() - timedelta(days=365)\n",
    "\n",
    "# Convert 'StartDate' column to datetime if it's not already\n",
    "employee_department_history_df['StartDate'] = pd.to_datetime(employee_department_history_df['StartDate'])\n",
    "\n",
    "# Filter EmployeeDepartmentHistory based on 'StartDate' being within the last 12 months\n",
    "recently_hired_df = employee_department_history_df[employee_department_history_df['StartDate'] >= twelve_months_ago]\n",
    "\n",
    "# Get the count of distinct employees\n",
    "number_of_people = len(recently_hired_df['BusinessEntityID'].unique())\n",
    "\n",
    "# Create DataFrame for the result\n",
    "recently_hired_df = pd.DataFrame({'NumberOfPeople': [number_of_people]})\n",
    "\n",
    "# Display the result\n",
    "print(recently_hired_df)\n",
    "\n"
   ]
  },
  {
   "cell_type": "code",
   "execution_count": 16,
   "id": "e5631441-f40b-45d6-aa36-b431f347e252",
   "metadata": {},
   "outputs": [
    {
     "name": "stdout",
     "output_type": "stream",
     "text": [
      "   DepartmentID  TotalEmployees        Name\n",
      "6             7             180  Production\n"
     ]
    }
   ],
   "source": [
    "# 12. Filter departments with more than 50 employees\n",
    "# Group by DepartmentID and Department Name, and count employees\n",
    "employees_per_department_df = employee_department_history_df.groupby('DepartmentID').size().reset_index(name='TotalEmployees')\n",
    "\n",
    "# Merge to get department names\n",
    "employees_per_department_df = pd.merge(employees_per_department_df, department_df[['DepartmentID', 'Name']], on='DepartmentID')\n",
    "\n",
    "# Filter departments with more than 50 employees\n",
    "large_departments_df = employees_per_department_df[employees_per_department_df['TotalEmployees'] > 50]\n",
    "\n",
    "# Display the result\n",
    "print(large_departments_df)\n"
   ]
  },
  {
   "cell_type": "code",
   "execution_count": 17,
   "id": "02d003d7-df14-4685-93cb-26412f9e38ab",
   "metadata": {},
   "outputs": [
    {
     "name": "stdout",
     "output_type": "stream",
     "text": [
      "    DepartmentID                        Name  AvgTenureYears\n",
      "0              1                 Engineering       15.571429\n",
      "1              2                 Tool Design       15.500000\n",
      "2              3                       Sales       12.444444\n",
      "3              4                   Marketing       14.700000\n",
      "4              5                  Purchasing       14.384615\n",
      "5              6    Research and Development       15.250000\n",
      "6              7                  Production       15.194444\n",
      "7              8          Production Control       15.333333\n",
      "8              9             Human Resources       15.500000\n",
      "9             10                     Finance       15.181818\n",
      "10            11        Information Services       15.300000\n",
      "11            12            Document Control       15.200000\n",
      "12            13           Quality Assurance       14.857143\n",
      "13            14  Facilities and Maintenance       14.571429\n",
      "14            15      Shipping and Receiving       15.500000\n",
      "15            16                   Executive       15.000000\n"
     ]
    }
   ],
   "source": [
    "# 13. Identify the average tenure of employees in each department\n",
    "from datetime import datetime\n",
    "\n",
    "# Calculate current date\n",
    "current_date = datetime.now()\n",
    "\n",
    "# Merge to get necessary details\n",
    "merged_df = pd.merge(employee_df[['BusinessEntityID', 'HireDate']], \n",
    "                     employee_department_history_df[['BusinessEntityID', 'DepartmentID']], \n",
    "                     on='BusinessEntityID')\n",
    "merged_df = pd.merge(merged_df, department_df[['DepartmentID', 'Name']], on='DepartmentID')\n",
    "\n",
    "# Calculate tenure for each employee\n",
    "merged_df['TenureYears'] = (current_date.year - pd.to_datetime(merged_df['HireDate']).dt.year)\n",
    "\n",
    "# Group by DepartmentID and calculate the average tenure\n",
    "average_tenure_df = merged_df.groupby(['DepartmentID', 'Name'])['TenureYears'].mean().reset_index(name='AvgTenureYears')\n",
    "\n",
    "# Display the result\n",
    "print(average_tenure_df)\n"
   ]
  },
  {
   "cell_type": "code",
   "execution_count": 18,
   "id": "6e5734aa-6065-43a1-8d1c-6a178b8dce3d",
   "metadata": {},
   "outputs": [
    {
     "name": "stdout",
     "output_type": "stream",
     "text": [
      "   EmployeesLeft  TotalEmployees  TurnoverRate\n",
      "0              5             290      1.724138\n"
     ]
    }
   ],
   "source": [
    "# 14. Calculate the turnover rate for the company\n",
    "# Count employees who left \n",
    "employees_left = employee_department_history_df[employee_department_history_df['EndDate'].notna()]['BusinessEntityID'].nunique()\n",
    "\n",
    "# Total number of employees\n",
    "total_employees = employee_df['BusinessEntityID'].nunique()\n",
    "\n",
    "# Calculate turnover rate\n",
    "turnover_rate = (employees_left / total_employees) * 100\n",
    "\n",
    "# Create DataFrame for the result\n",
    "turnover_df = pd.DataFrame({'EmployeesLeft': [employees_left], 'TotalEmployees': [total_employees], 'TurnoverRate': [turnover_rate]})\n",
    "\n",
    "# Display the result\n",
    "print(turnover_df)\n"
   ]
  },
  {
   "cell_type": "code",
   "execution_count": 19,
   "id": "aef69143-5a44-4a63-8626-62e335a78ef6",
   "metadata": {},
   "outputs": [
    {
     "name": "stdout",
     "output_type": "stream",
     "text": [
      "  AgeGroup  TotalEmployees\n",
      "0    30-50             215\n",
      "1  Over 50              75\n"
     ]
    }
   ],
   "source": [
    "# 15. Determine the number of employees in each age group\n",
    "# Assuming 'employee_df' contains 'BusinessEntityID' and 'BirthDate' columns\n",
    "\n",
    "from datetime import datetime\n",
    "\n",
    "# Calculate the age of employees\n",
    "current_year = datetime.now().year\n",
    "employee_df['Age'] = current_year - pd.to_datetime(employee_df['BirthDate']).dt.year\n",
    "\n",
    "# Define age groups\n",
    "def age_group(age):\n",
    "    if age < 30:\n",
    "        return 'Under 30'\n",
    "    elif 30 <= age <= 50:\n",
    "        return '30-50'\n",
    "    else:\n",
    "        return 'Over 50'\n",
    "\n",
    "# Apply the age_group function to create the 'AgeGroup' column\n",
    "employee_df['AgeGroup'] = employee_df['Age'].apply(age_group)\n",
    "\n",
    "# Group by 'AgeGroup' and count employees\n",
    "age_group_df = employee_df.groupby('AgeGroup').size().reset_index(name='TotalEmployees')\n",
    "\n",
    "# Display the result\n",
    "print(age_group_df)\n"
   ]
  },
  {
   "cell_type": "code",
   "execution_count": 20,
   "id": "6de8150d-ec33-44d2-9146-a1c7bf07f70d",
   "metadata": {},
   "outputs": [
    {
     "name": "stdout",
     "output_type": "stream",
     "text": [
      "    FirstName           LastName  BusinessEntityID  PayFrequency\n",
      "0         Ken            Sánchez                 1             2\n",
      "1       Terri              Duffy                 2             2\n",
      "2     Roberto         Tamburello                 3             2\n",
      "3         Rob            Walters                 4             2\n",
      "4         Rob            Walters                 4             2\n",
      "..        ...                ...               ...           ...\n",
      "311      Lynn           Tsoflias               286             2\n",
      "312       Amy            Alberts               287             2\n",
      "313    Rachel             Valdez               288             2\n",
      "314       Jae                Pak               289             2\n",
      "315    Ranjit  Varkey Chudukatil               290             2\n",
      "\n",
      "[136 rows x 4 columns]\n"
     ]
    }
   ],
   "source": [
    "#16. Filter employees who have not completed mandatory training.\t\t\t\t\n",
    "# Assuming 'person_df', 'employee_df', and 'employee_pay_history_df' contain necessary columns\n",
    "\n",
    "# Merge Person, Employee, and EmployeePayHistory DataFrames\n",
    "merged_df = pd.merge(employee_df[['BusinessEntityID']], \n",
    "                     person_df[['BusinessEntityID', 'FirstName', 'LastName']], \n",
    "                     on='BusinessEntityID')\n",
    "merged_df = pd.merge(merged_df, \n",
    "                     employee_pay_history_df[['BusinessEntityID', 'PayFrequency']], \n",
    "                     on='BusinessEntityID')\n",
    "\n",
    "# Filter rows where PayFrequency is 2\n",
    "employee_temp_df = merged_df[merged_df['PayFrequency'] == 2]\n",
    "\n",
    "# Display the result\n",
    "print(employee_temp_df[['FirstName', 'LastName', 'BusinessEntityID', 'PayFrequency']])\n"
   ]
  },
  {
   "cell_type": "code",
   "execution_count": 21,
   "id": "691b2208-5ce6-4f4b-881d-d706368a4e05",
   "metadata": {},
   "outputs": [
    {
     "name": "stdout",
     "output_type": "stream",
     "text": [
      "     BusinessEntityID   HireDate   Rank\n",
      "27                 28 2006-06-30    1.0\n",
      "16                 17 2007-01-26    2.0\n",
      "2                   3 2007-11-11    3.0\n",
      "3                   4 2007-12-05    4.0\n",
      "11                 12 2007-12-11    5.0\n",
      "..                ...        ...    ...\n",
      "289               290 2012-05-30  285.5\n",
      "283               284 2012-09-30  287.0\n",
      "284               285 2013-03-14  288.0\n",
      "285               286 2013-05-30  289.5\n",
      "287               288 2013-05-30  289.5\n",
      "\n",
      "[290 rows x 3 columns]\n"
     ]
    }
   ],
   "source": [
    "# 17. Rank employees by hire date\n",
    "# Assuming 'employee_df' contains 'BusinessEntityID' and 'HireDate' columns\n",
    "\n",
    "# Convert 'HireDate' to datetime if not already in that format\n",
    "employee_df['HireDate'] = pd.to_datetime(employee_df['HireDate'])\n",
    "\n",
    "# Rank employees by 'HireDate'\n",
    "employee_df['Rank'] = employee_df['HireDate'].rank(ascending=True)\n",
    "\n",
    "# Sort by rank\n",
    "employee_hire_df = employee_df[['BusinessEntityID', 'HireDate', 'Rank']].sort_values('Rank')\n",
    "\n",
    "# Display the result\n",
    "print(employee_hire_df)\n"
   ]
  },
  {
   "cell_type": "code",
   "execution_count": 22,
   "id": "678aa529-92fa-4d78-b6c8-c0683d65b683",
   "metadata": {},
   "outputs": [
    {
     "name": "stdout",
     "output_type": "stream",
     "text": [
      "    BusinessEntityID   HireDate  Rank\n",
      "27                28 2006-06-30   1.0\n",
      "16                17 2007-01-26   2.0\n",
      "2                  3 2007-11-11   3.0\n",
      "3                  4 2007-12-05   4.0\n",
      "11                12 2007-12-11   5.0\n"
     ]
    }
   ],
   "source": [
    "# 18. Top 5 longest-serving employees\n",
    "# Assuming 'employee_hire_df' contains 'BusinessEntityID' and 'HireDate' columns\n",
    "\n",
    "# Sort employees by 'HireDate' in ascending order to get the longest-serving employees\n",
    "longest_serving_df = employee_hire_df.sort_values('HireDate').head(5)\n",
    "\n",
    "# Display the result\n",
    "print(longest_serving_df)\n",
    "\n"
   ]
  },
  {
   "cell_type": "code",
   "execution_count": 23,
   "id": "a20a1a29-0994-4e2e-86d1-aee72c8bb5df",
   "metadata": {},
   "outputs": [
    {
     "name": "stdout",
     "output_type": "stream",
     "text": [
      "   BusinessEntityID FirstName LastName       Name   HireDate\n",
      "0                 1       Ken  Sánchez  Executive 2009-01-14\n"
     ]
    }
   ],
   "source": [
    "# 19. Function to retrieve employee details based on DepartmentID and HireDate\n",
    "\n",
    "\n",
    "def get_employee_by_dept_and_hiredate(department_id, hire_date):\n",
    "    # Merge Employee, Person, EmployeeDepartmentHistory, and Department DataFrames\n",
    "    merged_df = pd.merge(employee_df[['BusinessEntityID', 'HireDate']], \n",
    "                         person_df[['BusinessEntityID', 'FirstName', 'LastName']], \n",
    "                         on='BusinessEntityID')\n",
    "    merged_df = pd.merge(merged_df, \n",
    "                         employee_department_history_df[['BusinessEntityID', 'DepartmentID']], \n",
    "                         on='BusinessEntityID')\n",
    "    merged_df = pd.merge(merged_df, \n",
    "                         department_df[['DepartmentID', 'Name']], \n",
    "                         left_on='DepartmentID', right_on='DepartmentID')\n",
    "    \n",
    "    # Filter based on DepartmentID and HireDate\n",
    "    result_df = merged_df[(merged_df['DepartmentID'] == department_id) & (merged_df['HireDate'] == hire_date)]\n",
    "    \n",
    "    return result_df[['BusinessEntityID', 'FirstName', 'LastName', 'Name', 'HireDate']]\n",
    "\n",
    "dept_employee_df = get_employee_by_dept_and_hiredate(16, '2009-01-14')\n",
    "print(dept_employee_df)\n",
    "\n"
   ]
  },
  {
   "cell_type": "code",
   "execution_count": 24,
   "id": "cc204c7d-1a90-49f3-b303-cc7e52fb5440",
   "metadata": {},
   "outputs": [
    {
     "name": "stdout",
     "output_type": "stream",
     "text": [
      "     BusinessEntityID RateChangeDate  DaysSinceLastPromotion\n",
      "0                   1     2009-01-14                    5726\n",
      "1                   2     2008-01-31                    6075\n",
      "2                   3     2007-11-11                    6156\n",
      "3                   4     2011-12-15                    4661\n",
      "4                   5     2008-01-06                    6100\n",
      "..                ...            ...                     ...\n",
      "285               286     2013-05-30                    4129\n",
      "286               287     2012-04-16                    4538\n",
      "287               288     2013-05-30                    4129\n",
      "288               289     2012-05-30                    4494\n",
      "289               290     2012-05-30                    4494\n",
      "\n",
      "[290 rows x 3 columns]\n"
     ]
    }
   ],
   "source": [
    "# 20. Days since last promotion (assuming last promotion is the most recent RateChangeDate)\n",
    "\n",
    "# Convert 'RateChangeDate' to datetime if not already\n",
    "employee_pay_history_df['RateChangeDate'] = pd.to_datetime(employee_pay_history_df['RateChangeDate'])\n",
    "\n",
    "# Calculate days since the last promotion\n",
    "most_recent_promotion_df = employee_pay_history_df.groupby('BusinessEntityID')['RateChangeDate'].max().reset_index()\n",
    "most_recent_promotion_df['DaysSinceLastPromotion'] = (pd.Timestamp.now() - most_recent_promotion_df['RateChangeDate']).dt.days\n",
    "\n",
    "# Display the result\n",
    "print(most_recent_promotion_df)\n"
   ]
  },
  {
   "cell_type": "code",
   "execution_count": 25,
   "id": "15357238-8166-4718-b218-9ec79e08347a",
   "metadata": {},
   "outputs": [
    {
     "name": "stdout",
     "output_type": "stream",
     "text": [
      "   EmailPromotion  TotalPeople\n",
      "0               0        11158\n",
      "1               1         5044\n",
      "2               2         3770\n"
     ]
    }
   ],
   "source": [
    "#21. Analyze the effectiveness of employee development programs.\t\t\t\t\t\t\n",
    "\n",
    "\n",
    "# Group by 'EmailPromotion' and count the total number of people in each group\n",
    "email_promotion_df = person_df.groupby('EmailPromotion').size().reset_index(name='TotalPeople')\n",
    "\n",
    "# Display the result\n",
    "print(email_promotion_df)\n",
    "\n"
   ]
  },
  {
   "cell_type": "code",
   "execution_count": 26,
   "id": "24865682-1ac4-4476-b9eb-f3470485d6db",
   "metadata": {},
   "outputs": [
    {
     "name": "stdout",
     "output_type": "stream",
     "text": [
      "     BusinessEntityID  FirstName           LastName  ShiftCount\n",
      "249               250     Sheela               Word           3\n",
      "3                   4        Rob            Walters           2\n",
      "233               234      Laura             Norman           2\n",
      "223               224    William               Vong           2\n",
      "15                 16      David            Bradley           2\n",
      "..                ...        ...                ...         ...\n",
      "97                 98     Sameer             Tejani           1\n",
      "96                 97     Mandar             Samant           1\n",
      "95                 96  Elizabeth             Keyser           1\n",
      "94                 95        Jim          Scardelis           1\n",
      "289               290     Ranjit  Varkey Chudukatil           1\n",
      "\n",
      "[290 rows x 4 columns]\n"
     ]
    }
   ],
   "source": [
    "# Query to find employees with the highest number of shifts\n",
    "# Merge EmployeeDepartmentHistory, Employee, and Person DataFrames\n",
    "merged_shift_df = pd.merge(employee_department_history_df[['BusinessEntityID', 'ShiftID']], \n",
    "                           employee_df[['BusinessEntityID']], on='BusinessEntityID')\n",
    "merged_shift_df = pd.merge(merged_shift_df, \n",
    "                           person_df[['BusinessEntityID', 'FirstName', 'LastName']], \n",
    "                           on='BusinessEntityID')\n",
    "\n",
    "# Count the number of shifts per employee and sort by 'ShiftCount'\n",
    "shift_count_df = merged_shift_df.groupby(['BusinessEntityID', 'FirstName', 'LastName']).size().reset_index(name='ShiftCount')\n",
    "top_shift_employees_df = shift_count_df.sort_values('ShiftCount', ascending=False)\n",
    "\n",
    "# Display the result\n",
    "print(top_shift_employees_df)"
   ]
  },
  {
   "cell_type": "code",
   "execution_count": 27,
   "id": "45443f30-6003-41b7-b11e-ba0fec774baa",
   "metadata": {},
   "outputs": [
    {
     "name": "stdout",
     "output_type": "stream",
     "text": [
      "     BusinessEntityID  ShiftDuration\n",
      "0                   1            8.0\n",
      "1                   2            8.0\n",
      "2                   3            8.0\n",
      "3                   4            8.0\n",
      "4                   4            8.0\n",
      "..                ...            ...\n",
      "291               286            8.0\n",
      "292               287            8.0\n",
      "293               288            8.0\n",
      "294               289            8.0\n",
      "295               290            8.0\n",
      "\n",
      "[296 rows x 2 columns]\n"
     ]
    },
    {
     "name": "stderr",
     "output_type": "stream",
     "text": [
      "C:\\Users\\HP\\AppData\\Local\\Temp\\ipykernel_14196\\940224241.py:12: UserWarning: Could not infer format, so each element will be parsed individually, falling back to `dateutil`. To ensure parsing is consistent and as-expected, please specify a format.\n",
      "  merged_shift_df['StartTime'] = pd.to_datetime(merged_shift_df['StartTime'])\n",
      "C:\\Users\\HP\\AppData\\Local\\Temp\\ipykernel_14196\\940224241.py:13: UserWarning: Could not infer format, so each element will be parsed individually, falling back to `dateutil`. To ensure parsing is consistent and as-expected, please specify a format.\n",
      "  merged_shift_df['EndTime'] = pd.to_datetime(merged_shift_df['EndTime'])\n"
     ]
    }
   ],
   "source": [
    "# 23\n",
    "\n",
    "# Merge EmployeeDepartmentHistory, Employee, and Shift DataFrames\n",
    "merged_shift_df = pd.merge(employee_department_history_df[['BusinessEntityID', 'ShiftID']], \n",
    "                           employee_df[['BusinessEntityID']], \n",
    "                           on='BusinessEntityID')\n",
    "merged_shift_df = pd.merge(merged_shift_df, \n",
    "                           shift_df[['ShiftID', 'StartTime', 'EndTime']], \n",
    "                           on='ShiftID')\n",
    "\n",
    "# Convert 'StartTime' and 'EndTime' to datetime if not already\n",
    "merged_shift_df['StartTime'] = pd.to_datetime(merged_shift_df['StartTime'])\n",
    "merged_shift_df['EndTime'] = pd.to_datetime(merged_shift_df['EndTime'])\n",
    "\n",
    "# Calculate Shift Duration in hours\n",
    "merged_shift_df['ShiftDuration'] = abs((merged_shift_df['EndTime'] - merged_shift_df['StartTime']).dt.total_seconds() / 3600)\n",
    "\n",
    "# Select required columns\n",
    "compliance_df = merged_shift_df[['BusinessEntityID', 'ShiftDuration']]\n",
    "\n",
    "# Display the result\n",
    "print(compliance_df)\n",
    "\n"
   ]
  },
  {
   "cell_type": "code",
   "execution_count": 28,
   "id": "a7eb5519-d2cb-4c6e-9f3d-463fba727c5f",
   "metadata": {},
   "outputs": [
    {
     "name": "stdout",
     "output_type": "stream",
     "text": [
      "                DepartmentName  TotalPromotionEmails  Rank\n",
      "8                   Production                   129   1.0\n",
      "7                    Marketing                    10   2.5\n",
      "13                       Sales                    10   2.5\n",
      "10                  Purchasing                     8   4.0\n",
      "4                      Finance                     6   5.5\n",
      "6         Information Services                     6   5.5\n",
      "1                  Engineering                     5   7.0\n",
      "5              Human Resources                     4  10.0\n",
      "11           Quality Assurance                     4  10.0\n",
      "12    Research and Development                     4  10.0\n",
      "14      Shipping and Receiving                     4  10.0\n",
      "15                 Tool Design                     4  10.0\n",
      "0             Document Control                     2  13.5\n",
      "9           Production Control                     2  13.5\n",
      "2                    Executive                     1  15.0\n",
      "3   Facilities and Maintenance                     0  16.0\n"
     ]
    }
   ],
   "source": [
    "#24. Determine the distribution of employee performance ratings across departments.\t\t\t\t\n",
    "\n",
    "# Merge Person, Employee, EmployeeDepartmentHistory, and Department DataFrames\n",
    "merged_df = pd.merge(person_df[['BusinessEntityID', 'EmailPromotion']], \n",
    "                     employee_df[['BusinessEntityID']], \n",
    "                     on='BusinessEntityID')\n",
    "merged_df = pd.merge(merged_df, \n",
    "                     employee_department_history_df[['BusinessEntityID', 'DepartmentID']], \n",
    "                     on='BusinessEntityID')\n",
    "merged_df = pd.merge(merged_df, \n",
    "                     department_df[['DepartmentID', 'Name']], \n",
    "                     left_on='DepartmentID', right_on='DepartmentID')\n",
    "\n",
    "# Group by DepartmentName and sum EmailPromotion\n",
    "shift_email_distribution_df = merged_df.groupby('Name').agg({'EmailPromotion': 'sum'}).reset_index()\n",
    "shift_email_distribution_df.rename(columns={'Name': 'DepartmentName', 'EmailPromotion': 'TotalPromotionEmails'}, inplace=True)\n",
    "\n",
    "# Rank the departments by TotalPromotionEmails\n",
    "shift_email_distribution_df['Rank'] = shift_email_distribution_df['TotalPromotionEmails'].rank(ascending=False)\n",
    "\n",
    "# Display the result sorted by rank\n",
    "print(shift_email_distribution_df.sort_values('Rank'))\n"
   ]
  },
  {
   "cell_type": "code",
   "execution_count": null,
   "id": "fa255f2e-541c-47fa-85e0-f2153e3111d4",
   "metadata": {},
   "outputs": [],
   "source": []
  }
 ],
 "metadata": {
  "kernelspec": {
   "display_name": "Python 3 (ipykernel)",
   "language": "python",
   "name": "python3"
  },
  "language_info": {
   "codemirror_mode": {
    "name": "ipython",
    "version": 3
   },
   "file_extension": ".py",
   "mimetype": "text/x-python",
   "name": "python",
   "nbconvert_exporter": "python",
   "pygments_lexer": "ipython3",
   "version": "3.12.1"
  }
 },
 "nbformat": 4,
 "nbformat_minor": 5
}
